{
 "cells": [
  {
   "cell_type": "markdown",
   "metadata": {
    "deletable": false,
    "editable": false,
    "nbgrader": {
     "checksum": "48770f8b5f5d3062d3badd51fcafc401",
     "grade": false,
     "grade_id": "cell-a6c4f74309fc2379",
     "locked": true,
     "schema_version": 1,
     "solution": false
    }
   },
   "source": [
    "# Assignment 4\n",
    "## Description\n",
    "In this assignment you must read in a file of metropolitan regions and associated sports teams from [assets/wikipedia_data.html](assets/wikipedia_data.html) and answer some questions about each metropolitan region. Each of these regions may have one or more teams from the \"Big 4\": NFL (football, in [assets/nfl.csv](assets/nfl.csv)), MLB (baseball, in [assets/mlb.csv](assets/mlb.csv)), NBA (basketball, in [assets/nba.csv](assets/nba.csv) or NHL (hockey, in [assets/nhl.csv](assets/nhl.csv)). Please keep in mind that all questions are from the perspective of the metropolitan region, and that this file is the \"source of authority\" for the location of a given sports team. Thus teams which are commonly known by a different area (e.g. \"Oakland Raiders\") need to be mapped into the metropolitan region given (e.g. San Francisco Bay Area). This will require some human data understanding outside of the data you've been given (e.g. you will have to hand-code some names, and might need to google to find out where teams are)!\n",
    "\n",
    "For each sport I would like you to answer the question: **what is the win/loss ratio's correlation with the population of the city it is in?** Win/Loss ratio refers to the number of wins over the number of wins plus the number of losses. Remember that to calculate the correlation with [`pearsonr`](https://docs.scipy.org/doc/scipy/reference/generated/scipy.stats.pearsonr.html), so you are going to send in two ordered lists of values, the populations from the wikipedia_data.html file and the win/loss ratio for a given sport in the same order. Average the win/loss ratios for those cities which have multiple teams of a single sport. Each sport is worth an equal amount in this assignment (20%\\*4=80%) of the grade for this assignment. You should only use data **from year 2018** for your analysis -- this is important!\n",
    "\n",
    "## Notes\n",
    "\n",
    "1. Do not include data about the MLS or CFL in any of the work you are doing, we're only interested in the Big 4 in this assignment.\n",
    "2. I highly suggest that you first tackle the four correlation questions in order, as they are all similar and worth the majority of grades for this assignment. This is by design!\n",
    "3. It's fair game to talk with peers about high level strategy as well as the relationship between metropolitan areas and sports teams. However, do not post code solving aspects of the assignment (including such as dictionaries mapping areas to teams, or regexes which will clean up names).\n",
    "4. There may be more teams than the assert statements test, remember to collapse multiple teams in one city into a single value!"
   ]
  },
  {
   "cell_type": "markdown",
   "metadata": {
    "deletable": false,
    "editable": false,
    "nbgrader": {
     "checksum": "369ff9ecf0ee04640574205cbc697f94",
     "grade": false,
     "grade_id": "cell-712b2b5da63d4505",
     "locked": true,
     "schema_version": 1,
     "solution": false
    }
   },
   "source": [
    "## Question 1\n",
    "For this question, calculate the win/loss ratio's correlation with the population of the city it is in for the **NHL** using **2018** data."
   ]
  },
  {
   "cell_type": "code",
   "execution_count": 113,
   "metadata": {
    "deletable": false,
    "nbgrader": {
     "checksum": "1cac4803b02502929f5b1612d48db2b5",
     "grade": false,
     "grade_id": "cell-69b16e4386e58030",
     "locked": false,
     "schema_version": 1,
     "solution": true
    }
   },
   "outputs": [
    {
     "data": {
      "text/plain": [
       "0.012486162921209907"
      ]
     },
     "execution_count": 113,
     "metadata": {},
     "output_type": "execute_result"
    }
   ],
   "source": [
    "import pandas as pd\n",
    "import numpy as np\n",
    "import scipy.stats as stats\n",
    "import re\n",
    "\n",
    "#nhl_df=pd.read_csv(\"assets/nhl.csv\")\n",
    "#print(nhl_df.info())\n",
    "#print(nhl_df)\n",
    "\n",
    "#print(nhl_df['team'].unique)\n",
    "#print(cities['NHL'].unique)\n",
    "cities=pd.read_html(\"assets/wikipedia_data.html\")[1]\n",
    "cities=cities.iloc[:-1,[0,3,5,6,7,8]]\n",
    "cities.rename(columns={\"Population (2016 est.)[8]\": \"population\"},\n",
    "              inplace=True)\n",
    "\n",
    "cities['NHL']=cities['NHL'].str.replace(r'\\[[^()]*\\]','')\n",
    "\n",
    "    \n",
    "cities['NHL']=cities['NHL'].replace('—',np.nan)\n",
    "cities= cities.dropna()\n",
    "#print(cities)\n",
    "\n",
    "#print(cities)\n",
    "#print(cities.columns)\n",
    "#print(cities['Metropolitan area'])\n",
    "\n",
    "#team = cities[\"NHL\"].str.extract('([A-Z][a-z0-9]+ [A-Z][a-z0-9]+)|([A-Z][a-z0-9 ]+)')\n",
    "#team['Metropolitan area']=cities['Metropolitan area']\n",
    "#team = pd.melt(team, id_vars=['Metropolitan area'])\n",
    "#team = team.replace(\"\",np.nan)\n",
    "#team= team.dropna()\n",
    "#del(team['variable'])\n",
    "#print(team['value'].unique)\n",
    "\n",
    "#team = team.rename(columns={\"value\": \"team\"})\n",
    "\n",
    "#print(team.columns)\n",
    "#print(team.shape)\n",
    "\n",
    "#team=pd.merge(team,cities,how='left',on = 'Metropolitan area')\n",
    "#team = team.iloc[:, 0:3]\n",
    "#print(team)\n",
    "#print(team.info())\n",
    "#team['population'] =team['population'].astype(int)\n",
    "#print(team.info())\n",
    "\n",
    "#print(team.columns)\n",
    "#print(team.shape)\n",
    "\n",
    "####\n",
    "#nhl_df=pd.read_csv(\"assets/nhl.csv\")\n",
    "\n",
    "#nhl_df = nhl_df[nhl_df['year'] == 2018]\n",
    "#print(nhl_df.columns) \n",
    "#nhl_df['team'] = nhl_df['team'].str.replace('*', '')\n",
    "#nhl_df = nhl_df[['team','W','L']]\n",
    "\n",
    "#eliminate w and L that have str\n",
    "#nhl_df[nhl_df['W'].map(len) < 3]\n",
    "#print(len(nhl_df['W']))\n",
    "#print(nhl_df[nhl_df['W'].map(len) > 3])\n",
    "#nhl_df = nhl_df.drop([0, 9, 18, 26])\n",
    "\n",
    "#nhl_df['W'] = nhl_df[\"W\"].astype(int)\n",
    "#nhl_df['W'] = pd.to_numeric(nhl_df['W'])\n",
    "    \n",
    "#nhl_df['L'] = nhl_df[\"L\"].astype(int)\n",
    "#print(nhl_df.columns)   \n",
    "#print(nhl_df.info())\n",
    "\n",
    "#Calcualate Win/Loss ratio\n",
    "#nhl_df['Win/Loss_Ratio'] = nhl_df['W']/(nhl_df['W']+nhl_df['L'])\n",
    "#print(nhl_df['Win/Loss_Ratio'])\n",
    "#merge=pd.merge(team,nhl_df,'outer', on = 'team')\n",
    "#merge=merge.groupby('Metropolitan area').agg({'Win/Loss_Ratio': np.nanmean, 'population': np.nanmean})\n",
    "\n",
    "#print(merge.columns)   \n",
    "\n",
    "#print(population_by_region = merge['population'])\n",
    "\n",
    "\n",
    "\n",
    "def nhl_correlation(): \n",
    "    # YOUR CODE HERE\n",
    "    team = cities[\"NHL\"].str.extract('([A-Z]{0,2}[a-z0-9]*\\ [A-Z]{0,2}[a-z0-9]*|[A-Z]{0,2}[a-z0-9]*)([A-Z]{0,2}[a-z0-9]*\\ [A-Z]{0,2}[a-z0-9]*|[A-Z]{0,2}[a-z0-9]*)([A-Z]{0,2}[a-z0-9]*\\ [A-Z]{0,2}[a-z0-9]*|[A-Z]{0,2}[a-z0-9]*)')\n",
    "    team['Metropolitan area']=cities['Metropolitan area']\n",
    "    team = pd.melt(team, id_vars=['Metropolitan area'])\n",
    "    team = team.replace(\"\",np.nan)\n",
    "    team= team.dropna()\n",
    "    del(team['variable'])\n",
    "    team = team.rename(columns={\"value\": \"team\"})\n",
    "    \n",
    "    team=pd.merge(team,cities,how='left',on = 'Metropolitan area').iloc[:, 0:3]\n",
    "    team['population'] =team['population'].astype(int)\n",
    "    team['team']=team['team'].str.replace('[\\w.]+\\ ','')\n",
    "   \n",
    "    nhl_df=pd.read_csv(\"assets/nhl.csv\")\n",
    "    nhl_df = nhl_df[nhl_df['year'] == 2018]\n",
    "    \n",
    "    nhl_df['team']=nhl_df['team'].str.replace(r'[*]','')\n",
    "    nhl_df = nhl_df[['team','W','L']]\n",
    "\n",
    "    #eliminate w and L that have str\n",
    "    nhl_df[nhl_df['W'].map(len) < 3]\n",
    "    #print(len(nhl_df['W']))\n",
    "    #print(nhl_df[nhl_df['W'].map(len) > 3])\n",
    "    nhl_df=nhl_df.drop([0, 9, 18, 26])\n",
    "    #nhl_df['team'] = nhl_df['team'].astype(str).str.strip()\n",
    "    nhl_df['team'] = nhl_df['team'].str.replace('[\\w.]* ','')\n",
    "    nhl_df['W'] = nhl_df[\"W\"].astype(int)\n",
    "    nhl_df['L'] = pd.to_numeric(nhl_df['L'])\n",
    "    #Calcualate Win/Loss ratio\n",
    "    nhl_df['Win/Loss_Ratio'] = nhl_df['W']/(nhl_df['W']+nhl_df['L'])\n",
    "    \n",
    "    merge=pd.merge(team,nhl_df,'outer', on = 'team')\n",
    "    merge=merge.groupby('Metropolitan area').agg({'Win/Loss_Ratio': np.nanmean, 'population': np.nanmean})\n",
    "\n",
    "   \n",
    "   \n",
    "   \n",
    "    population_by_region = merge['population'] \n",
    "    win_loss_by_region = merge['Win/Loss_Ratio']\n",
    "   \n",
    "    assert len(population_by_region) == len(win_loss_by_region), \"Q1: Your lists must be the same length\"\n",
    "    assert len(population_by_region) == 28, \"Q1: There should be 28 teams being analysed for NHL\"\n",
    "    \n",
    "    return stats.pearsonr(population_by_region, win_loss_by_region)[0]\n",
    "nhl_correlation()"
   ]
  },
  {
   "cell_type": "code",
   "execution_count": null,
   "metadata": {
    "deletable": false,
    "editable": false,
    "nbgrader": {
     "checksum": "52a581df513c71153e105b93764cda4b",
     "grade": true,
     "grade_id": "cell-ebe0b2dfe1067e63",
     "locked": true,
     "points": 20,
     "schema_version": 1,
     "solution": false
    }
   },
   "outputs": [],
   "source": []
  },
  {
   "cell_type": "markdown",
   "metadata": {
    "deletable": false,
    "editable": false,
    "nbgrader": {
     "checksum": "988912cae4968d81473f46d783e79c16",
     "grade": false,
     "grade_id": "cell-cb964e690298b71d",
     "locked": true,
     "schema_version": 1,
     "solution": false
    }
   },
   "source": [
    "## Question 2\n",
    "For this question, calculate the win/loss ratio's correlation with the population of the city it is in for the **NBA** using **2018** data."
   ]
  },
  {
   "cell_type": "code",
   "execution_count": 114,
   "metadata": {
    "deletable": false,
    "nbgrader": {
     "checksum": "9394222aafc8ccab0a228098ba0d6010",
     "grade": false,
     "grade_id": "cell-5a5f21279e3d3572",
     "locked": false,
     "schema_version": 1,
     "solution": true
    }
   },
   "outputs": [
    {
     "name": "stdout",
     "output_type": "stream",
     "text": [
      "Index(['team', 'W', 'L', 'W/L%', 'GB', 'PS/G', 'PA/G', 'SRS', 'year',\n",
      "       'League'],\n",
      "      dtype='object')\n",
      "0                    0.72\n",
      "1      0.6709999999999999\n",
      "2                   0.634\n",
      "3                    0.61\n",
      "4                   0.585\n",
      "5                   0.537\n",
      "6                   0.537\n",
      "7                   0.524\n",
      "8     0.47600000000000003\n",
      "9                   0.439\n",
      "10                  0.354\n",
      "11                  0.341\n",
      "12    0.32899999999999996\n",
      "13                  0.305\n",
      "14                  0.293\n",
      "15     0.7929999999999999\n",
      "16     0.7070000000000001\n",
      "17                  0.598\n",
      "18                  0.585\n",
      "19                  0.585\n",
      "20                  0.585\n",
      "21                  0.573\n",
      "22                  0.573\n",
      "23                  0.561\n",
      "24                  0.512\n",
      "25    0.42700000000000005\n",
      "26    0.32899999999999996\n",
      "27                  0.293\n",
      "28                  0.268\n",
      "29                  0.256\n",
      "Name: W/L%, dtype: object\n"
     ]
    },
    {
     "data": {
      "text/plain": [
       "-0.17636350642182938"
      ]
     },
     "execution_count": 114,
     "metadata": {},
     "output_type": "execute_result"
    }
   ],
   "source": [
    "import pandas as pd\n",
    "import numpy as np\n",
    "import scipy.stats as stats\n",
    "import re\n",
    "\n",
    "nba_df=pd.read_csv(\"assets/nba.csv\")\n",
    "print(nba_df.columns)\n",
    "\n",
    "nba_df = nba_df[nba_df[\"year\"] == 2018]\n",
    "print(nba_df['W/L%'])\n",
    "nba_df[\"team\"] = nba_df[\"team\"].str.replace(r\"\\(\\d*\\)\", \"\")\n",
    "nba_df['team']=nba_df['team'].str.replace(r'[*]','')\n",
    "    \n",
    "\n",
    "nba_df['team'] = nba_df['team'].str.replace('[\\w.]* ','')\n",
    "nba_df = nba_df[['team','W/L%']]\n",
    "nba_df['W/L%'] = nba_df[\"W/L%\"].astype(float)\n",
    "#print(nba_df['W/L%'])\n",
    "cities=pd.read_html(\"assets/wikipedia_data.html\")[1]\n",
    "cities=cities.iloc[:-1,[0,3,5,6,7,8]]\n",
    "cities.rename(columns={\"Population (2016 est.)[8]\": \"population\"},\n",
    "              inplace=True)\n",
    "\n",
    "cities['NBA'] = cities['NBA'].str.replace(r\"\\[.*\\]\", \"\")\n",
    "cities['NBA']=cities['NBA'].replace('—',np.nan)\n",
    "cities= cities.dropna()\n",
    "\n",
    "def nba_correlation():\n",
    "    # YOUR CODE HERE\n",
    "    #raise NotImplementedError()\n",
    "    team = cities[\"NBA\"].str.extract('([A-Z]{0,2}[a-z0-9]*\\ [A-Z]{0,2}[a-z0-9]*|[A-Z]{0,2}[a-z0-9]*)([A-Z]{0,2}[a-z0-9]*\\ [A-Z]{0,2}[a-z0-9]*|[A-Z]{0,2}[a-z0-9]*)([A-Z]{0,2}[a-z0-9]*\\ [A-Z]{0,2}[a-z0-9]*|[A-Z]{0,2}[a-z0-9]*)')\n",
    "    team['Metropolitan area']=cities['Metropolitan area']\n",
    "    team = pd.melt(team, id_vars=['Metropolitan area'])\n",
    "    team = team.replace(\"\",np.nan)\n",
    "    team= team.dropna()\n",
    "    del(team['variable'])\n",
    "    team = team.rename(columns={\"value\": \"team\"})\n",
    "    \n",
    "    team=pd.merge(team,cities,how='left',on = 'Metropolitan area').iloc[:, 0:3]\n",
    "    team['population'] =team['population'].astype(int)\n",
    "    team['team']=team['team'].str.replace('[\\w.]+\\ ','')\n",
    "   \n",
    "    nba_df=pd.read_csv(\"assets/nba.csv\")\n",
    "    nba_df = nba_df[nba_df[\"year\"] == 2018]\n",
    "    nba_df[\"team\"] = nba_df[\"team\"].str.replace(r\"\\(\\d*\\)\", \"\")\n",
    "    nba_df['team']=nba_df['team'].str.replace(r'[*]','')\n",
    "    \n",
    "    #eliminate NaN\n",
    "    nba_df['team'] = nba_df['team'].astype(str).str.strip()\n",
    "    \n",
    "    nba_df['team'] = nba_df['team'].str.replace('[\\w.]* ','')\n",
    "    nba_df = nba_df[['team','W/L%']]\n",
    "    nba_df=nba_df.dropna().reset_index()\n",
    "    nba_df['W/L%'] = nba_df[\"W/L%\"].astype(float)\n",
    "    \n",
    "    \n",
    "    \n",
    "    merge=pd.merge(team,nba_df,'outer', on = 'team')\n",
    "    merge=merge.groupby('Metropolitan area').agg({'W/L%': np.nanmean, 'population': np.nanmean})\n",
    "\n",
    "    population_by_region = merge['population'] \n",
    "    win_loss_by_region = merge['W/L%']\n",
    "\n",
    "    assert len(population_by_region) == len(win_loss_by_region), \"Q2: Your lists must be the same length\"\n",
    "    assert len(population_by_region) == 28, \"Q2: There should be 28 teams being analysed for NBA\"\n",
    "\n",
    "    return stats.pearsonr(population_by_region, win_loss_by_region)[0]\n",
    "nba_correlation()"
   ]
  },
  {
   "cell_type": "code",
   "execution_count": null,
   "metadata": {
    "deletable": false,
    "editable": false,
    "nbgrader": {
     "checksum": "bbdeb8eb22f525a34c10dc8798324e42",
     "grade": true,
     "grade_id": "cell-e573b2b4a282b470",
     "locked": true,
     "points": 20,
     "schema_version": 1,
     "solution": false
    }
   },
   "outputs": [],
   "source": []
  },
  {
   "cell_type": "markdown",
   "metadata": {
    "deletable": false,
    "editable": false,
    "nbgrader": {
     "checksum": "1a1a5809f675ca033086422007cd73bd",
     "grade": false,
     "grade_id": "cell-96e15e4335df78f4",
     "locked": true,
     "schema_version": 1,
     "solution": false
    }
   },
   "source": [
    "## Question 3\n",
    "For this question, calculate the win/loss ratio's correlation with the population of the city it is in for the **MLB** using **2018** data."
   ]
  },
  {
   "cell_type": "code",
   "execution_count": 115,
   "metadata": {
    "deletable": false,
    "nbgrader": {
     "checksum": "27e8c0da6c9fa0dffc10488314335b6c",
     "grade": false,
     "grade_id": "cell-33b00fc3f3467b0c",
     "locked": false,
     "schema_version": 1,
     "solution": true
    }
   },
   "outputs": [
    {
     "name": "stdout",
     "output_type": "stream",
     "text": [
      "0          Red Sox\n",
      "1          Yankees\n",
      "2             Rays\n",
      "3        Blue Jays\n",
      "4          Orioles\n",
      "5          Indians\n",
      "6            Twins\n",
      "7           Tigers\n",
      "8        White Sox\n",
      "9           Royals\n",
      "10          Astros\n",
      "11       Athletics\n",
      "12        Mariners\n",
      "13          Angels\n",
      "14         Rangers\n",
      "15          Braves\n",
      "16       Nationals\n",
      "17        Phillies\n",
      "18            Mets\n",
      "19         Marlins\n",
      "20         Brewers\n",
      "21            Cubs\n",
      "22       Cardinals\n",
      "23         Pirates\n",
      "24            Reds\n",
      "25         Dodgers\n",
      "26         Rockies\n",
      "27    Diamondbacks\n",
      "28          Giants\n",
      "29          Padres\n",
      "Name: team, dtype: object\n"
     ]
    },
    {
     "data": {
      "text/plain": [
       "0.15003737475409495"
      ]
     },
     "execution_count": 115,
     "metadata": {},
     "output_type": "execute_result"
    }
   ],
   "source": [
    "import pandas as pd\n",
    "import numpy as np\n",
    "import scipy.stats as stats\n",
    "import re\n",
    "\n",
    "mlb_df=pd.read_csv(\"assets/mlb.csv\")\n",
    "cities=pd.read_html(\"assets/wikipedia_data.html\")[1]\n",
    "cities=cities.iloc[:-1,[0,3,5,6,7,8]]\n",
    "cities.rename(columns={\"Population (2016 est.)[8]\": \"population\"},\n",
    "              inplace=True)\n",
    "cities['MLB'] = cities['MLB'].str.replace(r\"\\[.*\\]\", \"\")\n",
    "cities['MLB']=cities['MLB'].replace('—',np.nan)\n",
    "cities= cities.dropna()\n",
    "\n",
    "\n",
    " #estan juntas RedSox y no tienen Blue y White\n",
    "   # mlb_df.iloc[0, 0] = \"Red Sox\"\n",
    "    #mlb_df.iloc[3, 0] = \"Blue Jays\"\n",
    "    #mlb_df.iloc[8,0] = \"White Sox\"\n",
    "    #print(mlb_df[\"team\"])\n",
    "    #mlb_df = mlb_df[[\"team\", \"W-L%\"]]\n",
    "    #mlb_df[\"W-L%\"] = pd.to_numeric(mlb_df[\"W-L%\"])\n",
    "\n",
    "\n",
    "\n",
    "def mlb_correlation(): \n",
    "    # YOUR CODE HERE\n",
    "    #raise NotImplementedError()\n",
    "    \n",
    "    team = cities[\"MLB\"].str.extract('([A-Z]{0,2}[a-z0-9]*\\ [A-Z]{0,2}[a-z0-9]*|[A-Z]{0,2}[a-z0-9]*)([A-Z]{0,2}[a-z0-9]*\\ [A-Z]{0,2}[a-z0-9]*|[A-Z]{0,2}[a-z0-9]*)([A-Z]{0,2}[a-z0-9]*\\ [A-Z]{0,2}[a-z0-9]*|[A-Z]{0,2}[a-z0-9]*)')\n",
    "    team['Metropolitan area']=cities['Metropolitan area']\n",
    "    team = pd.melt(team, id_vars=['Metropolitan area'])\n",
    "    team = team.replace(\"\",np.nan)\n",
    "    team= team.dropna()\n",
    "    del(team['variable'])\n",
    "    team = team.rename(columns={\"value\": \"team\"})\n",
    "    \n",
    "    \n",
    "    team=pd.merge(team,cities,how='left',on = 'Metropolitan area').iloc[:, 0:3]\n",
    "    team['population'] =team['population'].astype(int)\n",
    "    \n",
    "    mlb_df=pd.read_csv(\"assets/mlb.csv\")\n",
    "    mlb_df = mlb_df[mlb_df[\"year\"] == 2018]\n",
    "    mlb_df[\"team\"] = mlb_df[\"team\"].str.replace('\\ Sox','Sox')\n",
    "    #print(mlb_df[\"team\"])\n",
    "    mlb_df[\"team\"] = mlb_df[\"team\"].str.replace(r\"[\\w.]* \", \"\")\n",
    "\n",
    "    #estan juntas RedSox y no tienen Blue y White\n",
    "    mlb_df.iloc[0, 0] = \"Red Sox\"\n",
    "    mlb_df.iloc[3, 0] = \"Blue Jays\"\n",
    "    mlb_df.iloc[8,0] = \"White Sox\"\n",
    "    print(mlb_df[\"team\"])\n",
    "    mlb_df = mlb_df[[\"team\", \"W-L%\"]]\n",
    "    mlb_df[\"W-L%\"] = pd.to_numeric(mlb_df[\"W-L%\"])\n",
    "    \n",
    "    merge=pd.merge(team,mlb_df,'outer', on = 'team')\n",
    "    merge=merge.groupby('Metropolitan area').agg({'W-L%': np.nanmean, 'population': np.nanmean})\n",
    "   \n",
    "    population_by_region = merge['population'] \n",
    "    win_loss_by_region = merge['W-L%']\n",
    "    \n",
    "    assert len(population_by_region) == len(win_loss_by_region), \"Q3: Your lists must be the same length\"\n",
    "    assert len(population_by_region) == 26, \"Q3: There should be 26 teams being analysed for MLB\"\n",
    "\n",
    "    return stats.pearsonr(population_by_region, win_loss_by_region)[0]\n",
    "mlb_correlation()"
   ]
  },
  {
   "cell_type": "code",
   "execution_count": null,
   "metadata": {
    "deletable": false,
    "editable": false,
    "nbgrader": {
     "checksum": "cda33b094ba19ccc37a481e0dd29e0bc",
     "grade": true,
     "grade_id": "cell-764d4476f425c5a2",
     "locked": true,
     "points": 20,
     "schema_version": 1,
     "solution": false
    }
   },
   "outputs": [],
   "source": []
  },
  {
   "cell_type": "markdown",
   "metadata": {
    "deletable": false,
    "editable": false,
    "nbgrader": {
     "checksum": "6977a6da9ed6d8b7a0b7e37bbeda709b",
     "grade": false,
     "grade_id": "cell-793df6c04dfb126e",
     "locked": true,
     "schema_version": 1,
     "solution": false
    }
   },
   "source": [
    "## Question 4\n",
    "For this question, calculate the win/loss ratio's correlation with the population of the city it is in for the **NFL** using **2018** data."
   ]
  },
  {
   "cell_type": "code",
   "execution_count": 139,
   "metadata": {
    "deletable": false,
    "nbgrader": {
     "checksum": "c4914ad1e119278ec2bd567c52640b66",
     "grade": false,
     "grade_id": "cell-8ccebc209aeec8d9",
     "locked": false,
     "schema_version": 1,
     "solution": true
    }
   },
   "outputs": [
    {
     "name": "stdout",
     "output_type": "stream",
     "text": [
      "         DSRS         L League       MoV      OSRS        PA        PD  \\\n",
      "0    AFC East  AFC East    NFL  AFC East  AFC East  AFC East  AFC East   \n",
      "1         2.1         5    NFL       6.9       3.1       325       111   \n",
      "2        -5.2         9    NFL      -7.1      -3.6       433      -114   \n",
      "3        -0.6        10    NFL      -6.6      -6.3       374      -105   \n",
      "4        -5.9        12    NFL      -6.8      -2.0       441      -108   \n",
      "..        ...       ...    ...       ...       ...       ...       ...   \n",
      "195  NFC West  NFC West    NFL  NFC West  NFC West  NFC West  NFC West   \n",
      "196       7.1         4    NFL       8.8       2.4       254       140   \n",
      "197       4.4         5    NFL       0.7      -2.4       299        11   \n",
      "198       2.1         8    NFL      -2.1      -3.0       340       -34   \n",
      "199       0.4        10    NFL      -1.9      -1.2       354       -30   \n",
      "\n",
      "           PF       SRS       SoS         T         W      W-L%  \\\n",
      "0    AFC East  AFC East  AFC East  AFC East  AFC East  AFC East   \n",
      "1         436       5.2      -1.8         0        11      .688   \n",
      "2         319      -8.8      -1.7         0         7      .438   \n",
      "3         269      -6.9      -0.3         0         6      .375   \n",
      "4         333      -7.8      -1.1         0         4      .250   \n",
      "..        ...       ...       ...       ...       ...       ...   \n",
      "195  NFC West  NFC West  NFC West  NFC West  NFC West  NFC West   \n",
      "196       394       9.5       0.8         0        12      .750   \n",
      "197       310       2.0       1.3         0        11      .688   \n",
      "198       306      -1.0       1.2         0         8      .500   \n",
      "199       324      -0.8       1.0         0         6      .375   \n",
      "\n",
      "                      team  year  \n",
      "0                 AFC East  2018  \n",
      "1    New England Patriots*  2018  \n",
      "2           Miami Dolphins  2018  \n",
      "3            Buffalo Bills  2018  \n",
      "4            New York Jets  2018  \n",
      "..                     ...   ...  \n",
      "195               NFC West  2014  \n",
      "196      Seattle Seahawks*  2014  \n",
      "197     Arizona Cardinals+  2014  \n",
      "198    San Francisco 49ers  2014  \n",
      "199         St. Louis Rams  2014  \n",
      "\n",
      "[180 rows x 15 columns]\n"
     ]
    },
    {
     "data": {
      "text/plain": [
       "0.004282141436393017"
      ]
     },
     "execution_count": 139,
     "metadata": {},
     "output_type": "execute_result"
    }
   ],
   "source": [
    "import pandas as pd\n",
    "import numpy as np\n",
    "import scipy.stats as stats\n",
    "import re\n",
    "\n",
    "nfl_df=pd.read_csv(\"assets/nfl.csv\")\n",
    "\n",
    "cities=pd.read_html(\"assets/wikipedia_data.html\")[1]\n",
    "cities=cities.iloc[:-1,[0,3,5,6,7,8]]\n",
    "cities.rename(columns={\"Population (2016 est.)[8]\": \"population\"},\n",
    "              inplace=True)\n",
    "cities['NFL'] = cities['NFL'].str.replace(r\"\\[.*\\]\", \"\")\n",
    "\n",
    "#nfl_df = nfl_df[nfl_df[\"year\"] == 2018]\n",
    "#print(nfl_df['W-L%'])\n",
    "#nfl_df[nfl_df['W-L%'].map(len) < 9]\n",
    "print(nfl_df[nfl_df['W-L%'].map(len) < 9])\n",
    "\n",
    "def nfl_correlation(): \n",
    "    # YOUR CODE HERE\n",
    "    #raise NotImplementedError()\n",
    "    team = cities[\"NFL\"].str.extract('([A-Z]{0,2}[a-z0-9]*\\ [A-Z]{0,2}[a-z0-9]*|[A-Z]{0,2}[a-z0-9]*)([A-Z]{0,2}[a-z0-9]*\\ [A-Z]{0,2}[a-z0-9]*|[A-Z]{0,2}[a-z0-9]*)([A-Z]{0,2}[a-z0-9]*\\ [A-Z]{0,2}[a-z0-9]*|[A-Z]{0,2}[a-z0-9]*)')\n",
    "    team['Metropolitan area']=cities['Metropolitan area']\n",
    "    team = pd.melt(team, id_vars=['Metropolitan area'])\n",
    "    team = team.replace(\"\",np.nan)\n",
    "    team= team.dropna()\n",
    "    del(team['variable'])\n",
    "    team = team.rename(columns={\"value\": \"team\"})\n",
    "    \n",
    "    team=pd.merge(team,cities,how='left',on = 'Metropolitan area').iloc[:, 0:3]\n",
    "    team['population'] =team['population'].astype(int)\n",
    "    \n",
    "    team['team']=team['team'].str.replace('[\\w.]+\\ ','')\n",
    "    \n",
    "    \n",
    "    nfl_df=pd.read_csv(\"assets/nfl.csv\")\n",
    "    nfl_df = nfl_df[nfl_df[\"year\"] == 2018]\n",
    "    \n",
    "    nfl_df[nfl_df['W-L%'].map(len) < 9]\n",
    "    nfl_df = nfl_df.drop([0, 5, 10, 15, 20, 25, 30, 35])\n",
    "    nfl_df = nfl_df[[\"team\", \"W-L%\"]]\n",
    "    nfl_df[\"team\"] = nfl_df[\"team\"].str.replace(r\"[\\*\\+]\", \"\")\n",
    "    nfl_df = nfl_df.astype({\"W-L%\": float})\n",
    "    nfl_df[\"team\"] = nfl_df[\"team\"].str.replace(r\"[\\w.]* \", \"\")\n",
    "    \n",
    "    merge=pd.merge(team,nfl_df,'outer', on = 'team')\n",
    "    merge=merge.groupby('Metropolitan area').agg({'W-L%': np.nanmean, 'population': np.nanmean})\n",
    "   \n",
    "    population_by_region = merge['population'] \n",
    "    win_loss_by_region = merge['W-L%']\n",
    "    \n",
    "    assert len(population_by_region) == len(win_loss_by_region), \"Q4: Your lists must be the same length\"\n",
    "    assert len(population_by_region) == 29, \"Q4: There should be 29 teams being analysed for NFL\"\n",
    "    \n",
    "    \n",
    "    \n",
    "    \n",
    "\n",
    "    return stats.pearsonr(population_by_region, win_loss_by_region)[0]\n",
    "\n",
    "    assert len(population_by_region) == len(win_loss_by_region), \"Q4: Your lists must be the same length\"\n",
    "    assert len(population_by_region) == 29, \"Q4: There should be 29 teams being analysed for NFL\"\n",
    "\n",
    "    return stats.pearsonr(population_by_region, win_loss_by_region)\n",
    "nfl_correlation()"
   ]
  },
  {
   "cell_type": "code",
   "execution_count": null,
   "metadata": {
    "deletable": false,
    "editable": false,
    "nbgrader": {
     "checksum": "e9415d6399aa49e3a1a60813afdefa3b",
     "grade": true,
     "grade_id": "cell-de7b148b9554dbda",
     "locked": true,
     "points": 20,
     "schema_version": 1,
     "solution": false
    }
   },
   "outputs": [],
   "source": []
  },
  {
   "cell_type": "markdown",
   "metadata": {
    "deletable": false,
    "editable": false,
    "nbgrader": {
     "checksum": "b02d5cd3273f561e4ae939bb2a41740c",
     "grade": false,
     "grade_id": "cell-97b49d8639e908c4",
     "locked": true,
     "schema_version": 1,
     "solution": false
    }
   },
   "source": [
    "## Question 5\n",
    "In this question I would like you to explore the hypothesis that **given that an area has two sports teams in different sports, those teams will perform the same within their respective sports**. How I would like to see this explored is with a series of paired t-tests (so use [`ttest_rel`](https://docs.scipy.org/doc/scipy/reference/generated/scipy.stats.ttest_rel.html)) between all pairs of sports. Are there any sports where we can reject the null hypothesis? Again, average values where a sport has multiple teams in one region. Remember, you will only be including, for each sport, cities which have teams engaged in that sport, drop others as appropriate. This question is worth 20% of the grade for this assignment."
   ]
  },
  {
   "cell_type": "code",
   "execution_count": null,
   "metadata": {
    "deletable": false,
    "nbgrader": {
     "checksum": "6d78c961eb66f8d8c81f06d33ae8f393",
     "grade": false,
     "grade_id": "cell-92f25f44b8d1179f",
     "locked": false,
     "schema_version": 1,
     "solution": true
    }
   },
   "outputs": [],
   "source": [
    "import pandas as pd\n",
    "import numpy as np\n",
    "import scipy.stats as stats\n",
    "import re\n",
    "\n",
    "mlb_df=pd.read_csv(\"assets/mlb.csv\")\n",
    "nhl_df=pd.read_csv(\"assets/nhl.csv\")\n",
    "nba_df=pd.read_csv(\"assets/nba.csv\")\n",
    "nfl_df=pd.read_csv(\"assets/nfl.csv\")\n",
    "cities=pd.read_html(\"assets/wikipedia_data.html\")[1]\n",
    "cities=cities.iloc[:-1,[0,3,5,6,7,8]]\n",
    "\n",
    "def sports_team_performance():\n",
    "    # YOUR CODE HERE\n",
    "    raise NotImplementedError()\n",
    "    \n",
    "    # Note: p_values is a full dataframe, so df.loc[\"NFL\",\"NBA\"] should be the same as df.loc[\"NBA\",\"NFL\"] and\n",
    "    # df.loc[\"NFL\",\"NFL\"] should return np.nan\n",
    "    sports = ['NFL', 'NBA', 'NHL', 'MLB']\n",
    "    p_values = pd.DataFrame({k:np.nan for k in sports}, index=sports)\n",
    "    \n",
    "    assert abs(p_values.loc[\"NBA\", \"NHL\"] - 0.02) <= 1e-2, \"The NBA-NHL p-value should be around 0.02\"\n",
    "    assert abs(p_values.loc[\"MLB\", \"NFL\"] - 0.80) <= 1e-2, \"The MLB-NFL p-value should be around 0.80\"\n",
    "    return p_values"
   ]
  },
  {
   "cell_type": "code",
   "execution_count": null,
   "metadata": {
    "deletable": false,
    "editable": false,
    "nbgrader": {
     "checksum": "2a596ab421a45cc01168d10e8fbb8f89",
     "grade": true,
     "grade_id": "cell-fb4b9cb5ff4570a6",
     "locked": true,
     "points": 20,
     "schema_version": 1,
     "solution": false
    }
   },
   "outputs": [],
   "source": []
  }
 ],
 "metadata": {
  "coursera": {
   "schema_names": [
    "mooc_adswpy_1_v2_assignment4"
   ]
  },
  "kernelspec": {
   "display_name": "Python 3",
   "language": "python",
   "name": "python3"
  },
  "language_info": {
   "codemirror_mode": {
    "name": "ipython",
    "version": 3
   },
   "file_extension": ".py",
   "mimetype": "text/x-python",
   "name": "python",
   "nbconvert_exporter": "python",
   "pygments_lexer": "ipython3",
   "version": "3.7.3"
  }
 },
 "nbformat": 4,
 "nbformat_minor": 4
}
