{
 "cells": [
  {
   "cell_type": "markdown",
   "metadata": {},
   "source": [
    "---\n",
    "\n",
    "_You are currently looking at **version 1.5** of this notebook. To download notebooks and datafiles, as well as get help on Jupyter notebooks in the Coursera platform, visit the [Jupyter Notebook FAQ](https://www.coursera.org/learn/python-machine-learning/resources/bANLa) course resource._\n",
    "\n",
    "---"
   ]
  },
  {
   "cell_type": "markdown",
   "metadata": {},
   "source": [
    "# Assignment 2\n",
    "\n",
    "In this assignment you'll explore the relationship between model complexity and generalization performance, by adjusting key parameters of various supervised learning models. Part 1 of this assignment will look at regression and Part 2 will look at classification.\n",
    "\n",
    "## Part 1 - Regression"
   ]
  },
  {
   "cell_type": "markdown",
   "metadata": {},
   "source": [
    "First, run the following block to set up the variables needed for later sections."
   ]
  },
  {
   "cell_type": "code",
   "execution_count": 1,
   "metadata": {
    "scrolled": false
   },
   "outputs": [],
   "source": [
    "import numpy as np\n",
    "import pandas as pd\n",
    "from sklearn.model_selection import train_test_split\n",
    "\n",
    "\n",
    "np.random.seed(0)\n",
    "n = 15\n",
    "x = np.linspace(0,10,n) + np.random.randn(n)/5\n",
    "y = np.sin(x)+x/6 + np.random.randn(n)/10\n",
    "\n",
    "\n",
    "X_train, X_test, y_train, y_test = train_test_split(x, y, random_state=0)\n",
    "\n",
    "# You can use this function to help you visualize the dataset by\n",
    "# plotting a scatterplot of the data points\n",
    "# in the training and test sets.\n",
    "def part1_scatter():\n",
    "    import matplotlib.pyplot as plt\n",
    "    %matplotlib notebook\n",
    "    plt.figure()\n",
    "    plt.scatter(X_train, y_train, label='training data')\n",
    "    plt.scatter(X_test, y_test, label='test data')\n",
    "    plt.legend(loc=4);\n",
    "    \n",
    "    \n",
    "# NOTE: Uncomment the function below to visualize the data, but be sure \n",
    "# to **re-comment it before submitting this assignment to the autograder**.   \n",
    "#part1_scatter()"
   ]
  },
  {
   "cell_type": "markdown",
   "metadata": {},
   "source": [
    "### Question 1\n",
    "\n",
    "Write a function that fits a polynomial LinearRegression model on the *training data* `X_train` for degrees 1, 3, 6, and 9. (Use PolynomialFeatures in sklearn.preprocessing to create the polynomial features and then fit a linear regression model) For each model, find 100 predicted values over the interval x = 0 to 10 (e.g. `np.linspace(0,10,100)`) and store this in a numpy array. The first row of this array should correspond to the output from the model trained on degree 1, the second row degree 3, the third row degree 6, and the fourth row degree 9.\n",
    "\n",
    "<img src=\"readonly/polynomialreg1.png\" style=\"width: 1000px;\"/>\n",
    "\n",
    "The figure above shows the fitted models plotted on top of the original data (using `plot_one()`).\n",
    "\n",
    "<br>\n",
    "*This function should return a numpy array with shape `(4, 100)`*"
   ]
  },
  {
   "cell_type": "code",
   "execution_count": 5,
   "metadata": {},
   "outputs": [
    {
     "data": {
      "text/plain": [
       "[array([0.2530402 , 0.26920155, 0.2853629 , 0.30152425, 0.3176856 ,\n",
       "        0.33384695, 0.35000831, 0.36616966, 0.38233101, 0.39849236,\n",
       "        0.41465371, 0.43081507, 0.44697642, 0.46313777, 0.47929912,\n",
       "        0.49546047, 0.51162182, 0.52778318, 0.54394453, 0.56010588,\n",
       "        0.57626723, 0.59242858, 0.60858994, 0.62475129, 0.64091264,\n",
       "        0.65707399, 0.67323534, 0.6893967 , 0.70555805, 0.7217194 ,\n",
       "        0.73788075, 0.7540421 , 0.77020345, 0.78636481, 0.80252616,\n",
       "        0.81868751, 0.83484886, 0.85101021, 0.86717157, 0.88333292,\n",
       "        0.89949427, 0.91565562, 0.93181697, 0.94797832, 0.96413968,\n",
       "        0.98030103, 0.99646238, 1.01262373, 1.02878508, 1.04494644,\n",
       "        1.06110779, 1.07726914, 1.09343049, 1.10959184, 1.1257532 ,\n",
       "        1.14191455, 1.1580759 , 1.17423725, 1.1903986 , 1.20655995,\n",
       "        1.22272131, 1.23888266, 1.25504401, 1.27120536, 1.28736671,\n",
       "        1.30352807, 1.31968942, 1.33585077, 1.35201212, 1.36817347,\n",
       "        1.38433482, 1.40049618, 1.41665753, 1.43281888, 1.44898023,\n",
       "        1.46514158, 1.48130294, 1.49746429, 1.51362564, 1.52978699,\n",
       "        1.54594834, 1.56210969, 1.57827105, 1.5944324 , 1.61059375,\n",
       "        1.6267551 , 1.64291645, 1.65907781, 1.67523916, 1.69140051,\n",
       "        1.70756186, 1.72372321, 1.73988457, 1.75604592, 1.77220727,\n",
       "        1.78836862, 1.80452997, 1.82069132, 1.83685268, 1.85301403]),\n",
       " array([1.22989539, 1.15143628, 1.07722393, 1.00717881, 0.94122142,\n",
       "        0.87927223, 0.82125174, 0.76708043, 0.71667877, 0.66996727,\n",
       "        0.62686639, 0.58729663, 0.55117847, 0.5184324 , 0.4889789 ,\n",
       "        0.46273845, 0.43963155, 0.41957867, 0.4025003 , 0.38831692,\n",
       "        0.37694902, 0.36831709, 0.3623416 , 0.35894305, 0.35804192,\n",
       "        0.35955869, 0.36341384, 0.36952787, 0.37782126, 0.38821449,\n",
       "        0.40062805, 0.41498241, 0.43119808, 0.44919552, 0.46889523,\n",
       "        0.49021769, 0.51308339, 0.53741281, 0.56312643, 0.59014474,\n",
       "        0.61838823, 0.64777737, 0.67823266, 0.70967458, 0.74202361,\n",
       "        0.77520024, 0.80912495, 0.84371823, 0.87890056, 0.91459243,\n",
       "        0.95071432, 0.98718672, 1.02393011, 1.06086498, 1.09791181,\n",
       "        1.13499108, 1.17202328, 1.2089289 , 1.24562842, 1.28204233,\n",
       "        1.3180911 , 1.35369523, 1.3887752 , 1.42325149, 1.45704459,\n",
       "        1.49007498, 1.52226316, 1.55352959, 1.58379478, 1.61297919,\n",
       "        1.64100332, 1.66778766, 1.69325268, 1.71731887, 1.73990672,\n",
       "        1.76093671, 1.78032933, 1.79800506, 1.81388438, 1.82788778,\n",
       "        1.83993575, 1.84994877, 1.85784732, 1.86355189, 1.86698296,\n",
       "        1.86806103, 1.86670656, 1.86284006, 1.856382  , 1.84725286,\n",
       "        1.83537314, 1.82066332, 1.80304388, 1.7824353 , 1.75875808,\n",
       "        1.73193269, 1.70187963, 1.66851936, 1.6317724 , 1.5915592 ]),\n",
       " array([-0.19955431, -0.00395193,  0.17985175,  0.35100514,  0.50883171,\n",
       "         0.65281923,  0.78260924,  0.89798672,  0.99887012,  1.08530155,\n",
       "         1.15743729,  1.21553852,  1.25996233,  1.29115292,  1.30963316,\n",
       "         1.31599632,  1.31089811,  1.29504889,  1.26920626,  1.23416782,\n",
       "         1.19076415,  1.13985218,  1.08230867,  1.01902405,  0.95089644,\n",
       "         0.87882597,  0.80370934,  0.72643466,  0.64787646,  0.56889109,\n",
       "         0.49031226,  0.41294687,  0.33757115,  0.26492692,  0.19571829,\n",
       "         0.13060844,  0.07021676,  0.01511621, -0.03416904, -0.07716576,\n",
       "        -0.11345355, -0.14266638, -0.16449404, -0.17868319, -0.18503823,\n",
       "        -0.18342187, -0.17375553, -0.15601937, -0.13025213, -0.09655075,\n",
       "        -0.05506962, -0.00601973,  0.05033259,  0.11366707,  0.18361122,\n",
       "         0.25974226,  0.34158936,  0.42863605,  0.52032299,  0.61605092,\n",
       "         0.71518387,  0.81705269,  0.92095872,  1.02617782,  1.13196463,\n",
       "         1.23755703,  1.34218093,  1.44505526,  1.54539723,  1.64242789,\n",
       "         1.73537785,  1.82349336,  1.90604254,  1.98232198,  2.05166348,\n",
       "         2.11344114,  2.16707864,  2.2120568 ,  2.24792141,  2.27429129,\n",
       "         2.29086658,  2.29743739,  2.29389257,  2.28022881,  2.25656001,\n",
       "         2.22312684,  2.18030664,  2.12862347,  2.0687585 ,  2.00156065,\n",
       "         1.92805743,  1.84946605,  1.76720485,  1.68290491,  1.59842194,\n",
       "         1.51584842,  1.43752602,  1.36605824,  1.30432333,  1.25548743]),\n",
       " array([ 6.79500612,  4.14318998,  2.23122867,  0.91049438,  0.05498133,\n",
       "        -0.44134224, -0.66694766, -0.69494   , -0.58504692, -0.38541609,\n",
       "        -0.13423418,  0.13881999,  0.41127622,  0.6667161 ,  0.89374785,\n",
       "         1.08510221,  1.23683987,  1.34766072,  1.41830637,  1.45104735,\n",
       "         1.44924714,  1.41699564,  1.35880484,  1.27936035,  1.18332239,\n",
       "         1.07517056,  0.95908704,  0.83887306,  0.7178942 ,  0.59905004,\n",
       "         0.48476436,  0.37699222,  0.27724057,  0.18659959,  0.10578184,\n",
       "         0.03516693, -0.02515033, -0.07531044, -0.11563969, -0.14660231,\n",
       "        -0.1687552 , -0.18270644, -0.18907811, -0.1884742 , -0.18145391,\n",
       "        -0.16851057, -0.15005639, -0.12641278, -0.09780634, -0.06436999,\n",
       "        -0.026149  ,  0.01688858,  0.0648377 ,  0.11783885,  0.17605806,\n",
       "         0.23966508,  0.30881049,  0.38360244,  0.46408383,  0.55021073,\n",
       "         0.64183265,  0.73867549,  0.84032774,  0.94623063,  1.05567264,\n",
       "         1.16778895,  1.28156611,  1.39585223,  1.50937286,  1.62075248,\n",
       "         1.72854158,  1.83124901,  1.92737915,  2.01547329,  2.09415438,\n",
       "         2.1621743 ,  2.2184621 ,  2.26217218,  2.29273035,  2.3098761 ,\n",
       "         2.31369872,  2.30466493,  2.28363515,  2.25186546,  2.21099178,\n",
       "         2.1629927 ,  2.11012689,  2.05484069,  1.99964122,  1.9469299 ,\n",
       "         1.89879087,  1.85672849,  1.82134767,  1.79197016,  1.76617995,\n",
       "         1.73928997,  1.70372222,  1.64829275,  1.55739256,  1.41005493])]"
      ]
     },
     "execution_count": 5,
     "metadata": {},
     "output_type": "execute_result"
    }
   ],
   "source": [
    "\n",
    "def answer_one():\n",
    "    from sklearn.linear_model import LinearRegression\n",
    "    from sklearn.preprocessing import PolynomialFeatures\n",
    "    \n",
    "    # Your code here\n",
    "    poly_predict = []\n",
    "    degrees = [1,3,6,9]\n",
    "    \n",
    "    for deg in degrees:\n",
    "        poly_features = PolynomialFeatures(deg)\n",
    "        X_train_poly = poly_features.fit_transform(X_train.reshape((-1, 1)))\n",
    "        \n",
    "        poly_lin_reg = LinearRegression()\n",
    "        poly_lin_reg.fit(X_train_poly,y_train)\n",
    "        \n",
    "        X_test_ploy = poly_features.fit_transform(np.linspace(0,10,100).reshape((-1, 1)))\n",
    "        poly_predict.append(poly_lin_reg.predict(X_test_ploy))\n",
    "    \n",
    "    \n",
    "    return poly_predict # Return your answer\n",
    "answer_one()\n"
   ]
  },
  {
   "cell_type": "code",
   "execution_count": 16,
   "metadata": {},
   "outputs": [],
   "source": [
    "# feel free to use the function plot_one() to replicate the figure \n",
    "# from the prompt once you have completed question one\n",
    "def plot_one(degree_predictions):\n",
    "    import matplotlib.pyplot as plt\n",
    "    %matplotlib notebook\n",
    "    plt.figure(figsize=(10,5))\n",
    "    plt.plot(X_train, y_train, 'o', label='training data', markersize=10)\n",
    "    plt.plot(X_test, y_test, 'o', label='test data', markersize=10)\n",
    "    for i,degree in enumerate([1,3,6,9]):\n",
    "        plt.plot(np.linspace(0,10,100), degree_predictions[i], alpha=0.8, lw=2, label='degree={}'.format(degree))\n",
    "    plt.ylim(-1,2.5)\n",
    "    plt.legend(loc=4)\n",
    "\n",
    "#plot_one(answer_one())"
   ]
  },
  {
   "cell_type": "markdown",
   "metadata": {},
   "source": [
    "### Question 2\n",
    "\n",
    "Write a function that fits a polynomial LinearRegression model on the training data `X_train` for degrees 0 through 9. For each model compute the $R^2$ (coefficient of determination) regression score on the training data as well as the the test data, and return both of these arrays in a tuple.\n",
    "\n",
    "*This function should return one tuple of numpy arrays `(r2_train, r2_test)`. Both arrays should have shape `(10,)`*"
   ]
  },
  {
   "cell_type": "code",
   "execution_count": 9,
   "metadata": {},
   "outputs": [
    {
     "data": {
      "text/plain": [
       "([0.0,\n",
       "  0.4292457781234663,\n",
       "  0.45109980444082465,\n",
       "  0.587199536877985,\n",
       "  0.9194194471769304,\n",
       "  0.975786414306821,\n",
       "  0.9901823324795086,\n",
       "  0.9935250927840401,\n",
       "  0.9963754538774162,\n",
       "  0.9980370625662136],\n",
       " [-0.4780864173714179,\n",
       "  -0.45237104233936676,\n",
       "  -0.06856984149916023,\n",
       "  0.005331052945739101,\n",
       "  0.7300494281868042,\n",
       "  0.8770830091492043,\n",
       "  0.9214093981378233,\n",
       "  0.9202150411626775,\n",
       "  0.6324795007430363,\n",
       "  -0.645247772705078])"
      ]
     },
     "execution_count": 9,
     "metadata": {},
     "output_type": "execute_result"
    }
   ],
   "source": [
    "def answer_two():\n",
    "    from sklearn.linear_model import LinearRegression\n",
    "    from sklearn.preprocessing import PolynomialFeatures\n",
    "    #from sklearn.metrics.regression import r2_score\n",
    "    from sklearn.metrics import mean_squared_error, r2_score\n",
    "\n",
    "    # Your code here\n",
    "    r2_train=[]\n",
    "    r2_test=[]\n",
    "    for degree in range(10):\n",
    "        poly_features = PolynomialFeatures(degree)\n",
    "        X_train_poly = poly_features.fit_transform(X_train.reshape((-1, 1)))\n",
    "        \n",
    "        poly_lin_reg = LinearRegression()\n",
    "        lin_reg = poly_lin_reg.fit(X_train_poly,y_train)\n",
    "        \n",
    "        r2_train.append(lin_reg.score(X_train_poly,y_train))\n",
    "        \n",
    "        \n",
    "        X_test_poly = poly_features.fit_transform(X_test.reshape((-1, 1)))\n",
    "        r2_test.append(lin_reg.score(X_test_poly, y_test))\n",
    "        \n",
    "\n",
    "    return (r2_train,r2_test ) # Your answer here\n",
    "answer_two()"
   ]
  },
  {
   "cell_type": "markdown",
   "metadata": {},
   "source": [
    "### Question 3\n",
    "\n",
    "Based on the $R^2$ scores from question 2 (degree levels 0 through 9), what degree level corresponds to a model that is underfitting? What degree level corresponds to a model that is overfitting? What choice of degree level would provide a model with good generalization performance on this dataset? \n",
    "\n",
    "Hint: Try plotting the $R^2$ scores from question 2 to visualize the relationship between degree level and $R^2$. Remember to comment out the import matplotlib line before submission.\n",
    "\n",
    "*This function should return one tuple with the degree values in this order: `(Underfitting, Overfitting, Good_Generalization)`. There might be multiple correct solutions, however, you only need to return one possible solution, for example, (1,2,3).* "
   ]
  },
  {
   "cell_type": "code",
   "execution_count": 56,
   "metadata": {},
   "outputs": [
    {
     "data": {
      "text/html": [
       "<div>\n",
       "<style scoped>\n",
       "    .dataframe tbody tr th:only-of-type {\n",
       "        vertical-align: middle;\n",
       "    }\n",
       "\n",
       "    .dataframe tbody tr th {\n",
       "        vertical-align: top;\n",
       "    }\n",
       "\n",
       "    .dataframe thead th {\n",
       "        text-align: right;\n",
       "    }\n",
       "</style>\n",
       "<table border=\"1\" class=\"dataframe\">\n",
       "  <thead>\n",
       "    <tr style=\"text-align: right;\">\n",
       "      <th></th>\n",
       "      <th>training_score</th>\n",
       "      <th>test_score</th>\n",
       "      <th>rest_score</th>\n",
       "    </tr>\n",
       "  </thead>\n",
       "  <tbody>\n",
       "    <tr>\n",
       "      <th>0</th>\n",
       "      <td>0.000000</td>\n",
       "      <td>-0.478086</td>\n",
       "      <td>0.478086</td>\n",
       "    </tr>\n",
       "    <tr>\n",
       "      <th>1</th>\n",
       "      <td>0.429246</td>\n",
       "      <td>-0.452371</td>\n",
       "      <td>0.881617</td>\n",
       "    </tr>\n",
       "    <tr>\n",
       "      <th>2</th>\n",
       "      <td>0.451100</td>\n",
       "      <td>-0.068570</td>\n",
       "      <td>0.519670</td>\n",
       "    </tr>\n",
       "    <tr>\n",
       "      <th>3</th>\n",
       "      <td>0.587200</td>\n",
       "      <td>0.005331</td>\n",
       "      <td>0.581868</td>\n",
       "    </tr>\n",
       "    <tr>\n",
       "      <th>4</th>\n",
       "      <td>0.919419</td>\n",
       "      <td>0.730049</td>\n",
       "      <td>0.189370</td>\n",
       "    </tr>\n",
       "    <tr>\n",
       "      <th>5</th>\n",
       "      <td>0.975786</td>\n",
       "      <td>0.877083</td>\n",
       "      <td>0.098703</td>\n",
       "    </tr>\n",
       "    <tr>\n",
       "      <th>6</th>\n",
       "      <td>0.990182</td>\n",
       "      <td>0.921409</td>\n",
       "      <td>0.068773</td>\n",
       "    </tr>\n",
       "    <tr>\n",
       "      <th>7</th>\n",
       "      <td>0.993525</td>\n",
       "      <td>0.920215</td>\n",
       "      <td>0.073310</td>\n",
       "    </tr>\n",
       "    <tr>\n",
       "      <th>8</th>\n",
       "      <td>0.996375</td>\n",
       "      <td>0.632480</td>\n",
       "      <td>0.363896</td>\n",
       "    </tr>\n",
       "    <tr>\n",
       "      <th>9</th>\n",
       "      <td>0.998037</td>\n",
       "      <td>-0.645248</td>\n",
       "      <td>1.643285</td>\n",
       "    </tr>\n",
       "  </tbody>\n",
       "</table>\n",
       "</div>"
      ],
      "text/plain": [
       "   training_score  test_score  rest_score\n",
       "0        0.000000   -0.478086    0.478086\n",
       "1        0.429246   -0.452371    0.881617\n",
       "2        0.451100   -0.068570    0.519670\n",
       "3        0.587200    0.005331    0.581868\n",
       "4        0.919419    0.730049    0.189370\n",
       "5        0.975786    0.877083    0.098703\n",
       "6        0.990182    0.921409    0.068773\n",
       "7        0.993525    0.920215    0.073310\n",
       "8        0.996375    0.632480    0.363896\n",
       "9        0.998037   -0.645248    1.643285"
      ]
     },
     "execution_count": 56,
     "metadata": {},
     "output_type": "execute_result"
    }
   ],
   "source": [
    "r2_scores = answer_two()\n",
    "df_score = pd.DataFrame({ 'training_score':r2_scores[0], 'test_score':r2_scores[1]})\n",
    "df_score['rest_score'] = df_score['training_score'] - df_score['test_score']\n",
    "df_score\n",
    "df_score.sort_values(by=['rest_score'])\n",
    "df_score\n",
    "\n"
   ]
  },
  {
   "cell_type": "code",
   "execution_count": 57,
   "metadata": {},
   "outputs": [
    {
     "data": {
      "text/plain": [
       "(1, 9, 6)"
      ]
     },
     "execution_count": 57,
     "metadata": {},
     "output_type": "execute_result"
    }
   ],
   "source": [
    "def answer_three():\n",
    "    \n",
    "    # Your code here\n",
    "    #import matplotlib.pyplot as plt\n",
    "    #%matplotlib notebook\n",
    "    \n",
    "   # (r2_train, r2_test) = answer_two()\n",
    "    #plt.figure()\n",
    "    #plt.plot(range(10),r2_train, label ='r2_train')\n",
    "    #plt.plot(range(10),r2_test, label ='r2_test')\n",
    "    #plt.legend(loc=3)\n",
    "    #plt.show()\n",
    "    \n",
    "    return (1,9,6)# Return your answer\n",
    "answer_three()"
   ]
  },
  {
   "cell_type": "markdown",
   "metadata": {},
   "source": [
    "### Question 4\n",
    "\n",
    "Training models on high degree polynomial features can result in overly complex models that overfit, so we often use regularized versions of the model to constrain model complexity, as we saw with Ridge and Lasso linear regression.\n",
    "\n",
    "For this question, train two models: a non-regularized LinearRegression model (default parameters) and a regularized Lasso Regression model (with parameters `alpha=0.01`, `max_iter=10000`) both on polynomial features of degree 12. Return the $R^2$ score for both the LinearRegression and Lasso model's test sets.\n",
    "\n",
    "*This function should return one tuple `(LinearRegression_R2_test_score, Lasso_R2_test_score)`*"
   ]
  },
  {
   "cell_type": "code",
   "execution_count": 60,
   "metadata": {},
   "outputs": [
    {
     "name": "stderr",
     "output_type": "stream",
     "text": [
      "/opt/anaconda3/lib/python3.8/site-packages/sklearn/linear_model/_coordinate_descent.py:530: ConvergenceWarning: Objective did not converge. You might want to increase the number of iterations. Duality gap: 0.3556421695889839, tolerance: 0.00068949825403828\n",
      "  model = cd_fast.enet_coordinate_descent(\n"
     ]
    },
    {
     "data": {
      "text/plain": [
       "(-4.311980555741178, 0.8406625614750356)"
      ]
     },
     "execution_count": 60,
     "metadata": {},
     "output_type": "execute_result"
    }
   ],
   "source": [
    "def answer_four():\n",
    "    from sklearn.preprocessing import PolynomialFeatures\n",
    "    from sklearn.linear_model import Lasso, LinearRegression\n",
    "    #from sklearn.metrics.regression import r2_score\n",
    "    from sklearn.metrics import mean_squared_error, r2_score\n",
    "\n",
    "    # Your code here\n",
    "    poly_12 = PolynomialFeatures(12)\n",
    "    x_poly= poly_12.fit_transform(X_train.reshape((-1, 1)))\n",
    "    y_poly= poly_12.fit_transform(X_test.reshape((-1, 1)))\n",
    "    \n",
    "    #Linear Regression\n",
    "    poly_lin_reg = LinearRegression()\n",
    "    lin_reg = poly_lin_reg.fit(x_poly,y_train)\n",
    "    reg_r2 = lin_reg.score(y_poly, y_test)\n",
    "    \n",
    "    #lasso\n",
    "    poly_lin_lasso = Lasso(alpha=0.01,max_iter=10000).fit(x_poly,y_train)\n",
    "    lasso_r2 = poly_lin_lasso.score(y_poly, y_test)\n",
    "    \n",
    "    \n",
    "    return (reg_r2, lasso_r2)# Your answer here\n",
    "answer_four()"
   ]
  },
  {
   "cell_type": "markdown",
   "metadata": {},
   "source": [
    "## Part 2 - Classification\n",
    "\n",
    "Here's an application of machine learning that could save your life! For this section of the assignment we will be working with the [UCI Mushroom Data Set](http://archive.ics.uci.edu/ml/datasets/Mushroom?ref=datanews.io) stored in `readonly/mushrooms.csv`. The data will be used to train a model to predict whether or not a mushroom is poisonous. The following attributes are provided:\n",
    "\n",
    "*Attribute Information:*\n",
    "\n",
    "1. cap-shape: bell=b, conical=c, convex=x, flat=f, knobbed=k, sunken=s \n",
    "2. cap-surface: fibrous=f, grooves=g, scaly=y, smooth=s \n",
    "3. cap-color: brown=n, buff=b, cinnamon=c, gray=g, green=r, pink=p, purple=u, red=e, white=w, yellow=y \n",
    "4. bruises?: bruises=t, no=f \n",
    "5. odor: almond=a, anise=l, creosote=c, fishy=y, foul=f, musty=m, none=n, pungent=p, spicy=s \n",
    "6. gill-attachment: attached=a, descending=d, free=f, notched=n \n",
    "7. gill-spacing: close=c, crowded=w, distant=d \n",
    "8. gill-size: broad=b, narrow=n \n",
    "9. gill-color: black=k, brown=n, buff=b, chocolate=h, gray=g, green=r, orange=o, pink=p, purple=u, red=e, white=w, yellow=y \n",
    "10. stalk-shape: enlarging=e, tapering=t \n",
    "11. stalk-root: bulbous=b, club=c, cup=u, equal=e, rhizomorphs=z, rooted=r, missing=? \n",
    "12. stalk-surface-above-ring: fibrous=f, scaly=y, silky=k, smooth=s \n",
    "13. stalk-surface-below-ring: fibrous=f, scaly=y, silky=k, smooth=s \n",
    "14. stalk-color-above-ring: brown=n, buff=b, cinnamon=c, gray=g, orange=o, pink=p, red=e, white=w, yellow=y \n",
    "15. stalk-color-below-ring: brown=n, buff=b, cinnamon=c, gray=g, orange=o, pink=p, red=e, white=w, yellow=y \n",
    "16. veil-type: partial=p, universal=u \n",
    "17. veil-color: brown=n, orange=o, white=w, yellow=y \n",
    "18. ring-number: none=n, one=o, two=t \n",
    "19. ring-type: cobwebby=c, evanescent=e, flaring=f, large=l, none=n, pendant=p, sheathing=s, zone=z \n",
    "20. spore-print-color: black=k, brown=n, buff=b, chocolate=h, green=r, orange=o, purple=u, white=w, yellow=y \n",
    "21. population: abundant=a, clustered=c, numerous=n, scattered=s, several=v, solitary=y \n",
    "22. habitat: grasses=g, leaves=l, meadows=m, paths=p, urban=u, waste=w, woods=d\n",
    "\n",
    "<br>\n",
    "\n",
    "The data in the mushrooms dataset is currently encoded with strings. These values will need to be encoded to numeric to work with sklearn. We'll use pd.get_dummies to convert the categorical variables into indicator variables. "
   ]
  },
  {
   "cell_type": "code",
   "execution_count": 64,
   "metadata": {},
   "outputs": [],
   "source": [
    "import pandas as pd\n",
    "import numpy as np\n",
    "from sklearn.model_selection import train_test_split\n",
    "\n",
    "\n",
    "#mush_df = pd.read_csv('readonly/mushrooms.csv')\n",
    "mush_df = pd.read_csv('mushrooms.csv')\n",
    "mush_df2 = pd.get_dummies(mush_df)\n",
    "\n",
    "X_mush = mush_df2.iloc[:,2:]\n",
    "y_mush = mush_df2.iloc[:,1]\n",
    "\n",
    "# use the variables X_train2, y_train2 for Question 5\n",
    "X_train2, X_test2, y_train2, y_test2 = train_test_split(X_mush, y_mush, random_state=0)\n",
    "\n",
    "# For performance reasons in Questions 6 and 7, we will create a smaller version of the\n",
    "# entire mushroom dataset for use in those questions.  For simplicity we'll just re-use\n",
    "# the 25% test split created above as the representative subset.\n",
    "#\n",
    "# Use the variables X_subset, y_subset for Questions 6 and 7.\n",
    "X_subset = X_test2\n",
    "y_subset = y_test2"
   ]
  },
  {
   "cell_type": "markdown",
   "metadata": {},
   "source": [
    "### Question 5\n",
    "\n",
    "Using `X_train2` and `y_train2` from the preceeding cell, train a DecisionTreeClassifier with default parameters and random_state=0. What are the 5 most important features found by the decision tree?\n",
    "\n",
    "As a reminder, the feature names are available in the `X_train2.columns` property, and the order of the features in `X_train2.columns` matches the order of the feature importance values in the classifier's `feature_importances_` property. \n",
    "\n",
    "*This function should return a list of length 5 containing the feature names in descending order of importance.*\n",
    "\n",
    "*Note: remember that you also need to set random_state in the DecisionTreeClassifier.*"
   ]
  },
  {
   "cell_type": "code",
   "execution_count": 116,
   "metadata": {},
   "outputs": [
    {
     "data": {
      "text/plain": [
       "['odor_n', 'stalk-root_c', 'stalk-root_r', 'spore-print-color_r', 'odor_l']"
      ]
     },
     "execution_count": 116,
     "metadata": {},
     "output_type": "execute_result"
    }
   ],
   "source": [
    "def answer_five():\n",
    "    from sklearn.tree import DecisionTreeClassifier\n",
    "\n",
    "    # Your code here\n",
    "    tree_clf = DecisionTreeClassifier(random_state=0)\n",
    "    tree_clf.fit(X_train2,y_train2)\n",
    "    df_top = pd.DataFrame({'feature': X_train2.columns,'top5':tree_clf.feature_importances_})\n",
    "    top5 = df_top.sort_values(by='top5', ascending=False)\n",
    "    \n",
    "    #print(top5)\n",
    "    #print(top5['feature'][:5])\n",
    "    \n",
    "    list_tpo5 = top5['feature'][:5].tolist()\n",
    "    \n",
    "    return list_tpo5 # Your answer here\n",
    "answer_five()"
   ]
  },
  {
   "cell_type": "markdown",
   "metadata": {},
   "source": [
    "### Question 6\n",
    "\n",
    "For this question, we're going to use the `validation_curve` function in `sklearn.model_selection` to determine training and test scores for a Support Vector Classifier (`SVC`) with varying parameter values.  Recall that the validation_curve function, in addition to taking an initialized unfitted classifier object, takes a dataset as input and does its own internal train-test splits to compute results.\n",
    "\n",
    "**Because creating a validation curve requires fitting multiple models, for performance reasons this question will use just a subset of the original mushroom dataset: please use the variables X_subset and y_subset as input to the validation curve function (instead of X_mush and y_mush) to reduce computation time.**\n",
    "\n",
    "The initialized unfitted classifier object we'll be using is a Support Vector Classifier with radial basis kernel.  So your first step is to create an `SVC` object with default parameters (i.e. `kernel='rbf', C=1`) and `random_state=0`. Recall that the kernel width of the RBF kernel is controlled using the `gamma` parameter.  \n",
    "\n",
    "With this classifier, and the dataset in X_subset, y_subset, explore the effect of `gamma` on classifier accuracy by using the `validation_curve` function to find the training and test scores for 6 values of `gamma` from `0.0001` to `10` (i.e. `np.logspace(-4,1,6)`). Recall that you can specify what scoring metric you want validation_curve to use by setting the \"scoring\" parameter.  In this case, we want to use \"accuracy\" as the scoring metric.\n",
    "\n",
    "For each level of `gamma`, `validation_curve` will fit 3 models on different subsets of the data, returning two 6x3 (6 levels of gamma x 3 fits per level) arrays of the scores for the training and test sets.\n",
    "\n",
    "Find the mean score across the three models for each level of `gamma` for both arrays, creating two arrays of length 6, and return a tuple with the two arrays.\n",
    "\n",
    "e.g.\n",
    "\n",
    "if one of your array of scores is\n",
    "\n",
    "    array([[ 0.5,  0.4,  0.6],\n",
    "           [ 0.7,  0.8,  0.7],\n",
    "           [ 0.9,  0.8,  0.8],\n",
    "           [ 0.8,  0.7,  0.8],\n",
    "           [ 0.7,  0.6,  0.6],\n",
    "           [ 0.4,  0.6,  0.5]])\n",
    "       \n",
    "it should then become\n",
    "\n",
    "    array([ 0.5,  0.73333333,  0.83333333,  0.76666667,  0.63333333, 0.5])\n",
    "\n",
    "*This function should return one tuple of numpy arrays `(training_scores, test_scores)` where each array in the tuple has shape `(6,)`.*"
   ]
  },
  {
   "cell_type": "code",
   "execution_count": 117,
   "metadata": {},
   "outputs": [
    {
     "data": {
      "text/plain": [
       "(array([0.83370474, 0.93943926, 0.99101417, 1.        , 1.        ,\n",
       "        1.        ]),\n",
       " array([0.83160092, 0.93747958, 0.9901502 , 1.        , 0.99852459,\n",
       "        0.52240229]))"
      ]
     },
     "execution_count": 117,
     "metadata": {},
     "output_type": "execute_result"
    }
   ],
   "source": [
    "def answer_six():\n",
    "    from sklearn.svm import SVC\n",
    "    from sklearn.model_selection import validation_curve\n",
    "\n",
    "    # Your code here\n",
    "    gamma = np.logspace(-4,1,6)\n",
    "    svc = SVC(kernel='rbf', C=1,random_state=0)\n",
    "    \n",
    "    training_scores,test_scores = validation_curve(svc,X_subset, y_subset,\n",
    "                                                  param_name='gamma',\n",
    "                                                  param_range=gamma,\n",
    "                                                  scoring='accuracy')\n",
    "    \n",
    "    scores=(training_scores.mean(axis=1),test_scores.mean(axis=1))\n",
    "\n",
    "    return scores# Your answer here\n",
    "answer_six()"
   ]
  },
  {
   "cell_type": "markdown",
   "metadata": {},
   "source": [
    "### Question 7\n",
    "\n",
    "Based on the scores from question 6, what gamma value corresponds to a model that is underfitting (and has the worst test set accuracy)? What gamma value corresponds to a model that is overfitting (and has the worst test set accuracy)? What choice of gamma would be the best choice for a model with good generalization performance on this dataset (high accuracy on both training and test set)? \n",
    "\n",
    "Hint: Try plotting the scores from question 6 to visualize the relationship between gamma and accuracy. Remember to comment out the import matplotlib line before submission.\n",
    "\n",
    "*This function should return one tuple with the degree values in this order: `(Underfitting, Overfitting, Good_Generalization)` Please note there is only one correct solution.*"
   ]
  },
  {
   "cell_type": "code",
   "execution_count": null,
   "metadata": {
    "collapsed": true
   },
   "outputs": [],
   "source": [
    "def answer_seven():\n",
    "    \n",
    "    # Your code here\n",
    "    \n",
    "    return # Return your answer"
   ]
  }
 ],
 "metadata": {
  "coursera": {
   "course_slug": "python-machine-learning",
   "graded_item_id": "eWYHL",
   "launcher_item_id": "BAqef",
   "part_id": "fXXRp"
  },
  "kernelspec": {
   "display_name": "Python 3",
   "language": "python",
   "name": "python3"
  },
  "language_info": {
   "codemirror_mode": {
    "name": "ipython",
    "version": 3
   },
   "file_extension": ".py",
   "mimetype": "text/x-python",
   "name": "python",
   "nbconvert_exporter": "python",
   "pygments_lexer": "ipython3",
   "version": "3.8.5"
  }
 },
 "nbformat": 4,
 "nbformat_minor": 2
}
