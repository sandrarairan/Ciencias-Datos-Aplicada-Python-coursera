{
 "cells": [
  {
   "cell_type": "markdown",
   "metadata": {},
   "source": [
    "# Assignment 2: Plotting weather patterns"
   ]
  },
  {
   "cell_type": "code",
   "execution_count": 1,
   "metadata": {},
   "outputs": [
    {
     "name": "stdout",
     "output_type": "stream",
     "text": [
      "Using matplotlib backend: Qt5Agg\n"
     ]
    }
   ],
   "source": [
    "import matplotlib.pyplot as plt\n",
    "import pandas as pd\n",
    "import numpy as np\n",
    "%matplotlib"
   ]
  },
  {
   "cell_type": "code",
   "execution_count": 2,
   "metadata": {},
   "outputs": [],
   "source": [
    "df = pd.read_csv('fb441e62df2d58994928907a91895ec62c2c42e6cd075c2700843b89.csv')\n",
    "df['Day'] = df['Date'].apply(lambda x: pd.Timestamp(x).dayofyear)\n",
    "\n",
    "df2 = df[(df['Date'] >= '2005') & (df['Date'] < '2015')]\n",
    "\n",
    "df3 = df[(df['Date'] >= '2015-01-01') & (df['Date'] <= '2015-12-31')]\n",
    "\n",
    "# Group by day of the year.\n",
    "# Remove the 366-th days of the year as an alternative for removing the leap days\n",
    "\n",
    "s2_max = df2.groupby(['Day']).max()['Data_Value'][:365]\n",
    "\n",
    "s2_min = df2.groupby(['Day']).min()['Data_Value'][:365]\n",
    "\n",
    "s3_max = df3.groupby(['Day']).max()['Data_Value'][:365]\n",
    "\n",
    "s3_min = df3.groupby(['Day']).min()['Data_Value'][:365]\n",
    "\n",
    "df4 = pd.concat(dict(min_2005_2014 = s2_min, max_2005_2014 = s2_max,\n",
    "                     min_2015 = s3_min, max_2015 = s3_max,), axis=1)\n",
    "\n",
    "df4['broken_min'] = df4.apply(lambda x: x['min_2015'] < x['min_2005_2014'], axis = 1)\n",
    "df4['broken_max'] = df4.apply(lambda x: x['max_2015'] > x['max_2005_2014'], axis = 1)\n",
    "\n",
    "df4 = df4.reset_index()\n"
   ]
  },
  {
   "cell_type": "code",
   "execution_count": 3,
   "metadata": {},
   "outputs": [],
   "source": [
    "ax = plt.gca()\n",
    "\n",
    "df4.plot(kind='line',x = 'Day', y='max_2005_2014', color='orange', ax=ax, label = 'Record heighs for 2005-2014')\n",
    "df4.plot(kind='line',x = 'Day', y='min_2005_2014', color='green', ax=ax, label = 'Record lows for 2005-2014')\n",
    "ax.fill_between(range(len(df4)), df4['min_2005_2014'], df4['max_2005_2014'], facecolor='yellow', alpha = 0.25)\n",
    "\n",
    "df4.loc[df4['broken_max'] == True].plot(kind='scatter',x = 'Day', y='max_2015', color='red',ax=ax, label = 'High record broken in 2015')\n",
    "df4.loc[df4['broken_min'] == True].plot(kind='scatter',x = 'Day', y='min_2015', color='blue', ax=ax, label = 'Low record broken in 2015')\n",
    "\n",
    "ax.set_xlabel('Day of the year', fontsize='20')\n",
    "ax.set_ylabel('Temperature  (tenths of degrees C)', fontsize='20')\n",
    "ax.set_title('Weather pattern near Ann Arbor, Michigan, United States for 2005-2015', fontsize='24')\n",
    "plt.legend(loc=8, frameon=False, fontsize='12')\n",
    "\n",
    "plt.show()"
   ]
  },
  {
   "cell_type": "code",
   "execution_count": null,
   "metadata": {},
   "outputs": [],
   "source": []
  },
  {
   "cell_type": "code",
   "execution_count": null,
   "metadata": {},
   "outputs": [],
   "source": []
  }
 ],
 "metadata": {
  "kernelspec": {
   "display_name": "Python 3",
   "language": "python",
   "name": "python3"
  },
  "language_info": {
   "codemirror_mode": {
    "name": "ipython",
    "version": 3
   },
   "file_extension": ".py",
   "mimetype": "text/x-python",
   "name": "python",
   "nbconvert_exporter": "python",
   "pygments_lexer": "ipython3",
   "version": "3.8.5"
  }
 },
 "nbformat": 4,
 "nbformat_minor": 4
}
