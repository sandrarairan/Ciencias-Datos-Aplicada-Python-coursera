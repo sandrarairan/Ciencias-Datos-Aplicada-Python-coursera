{
 "cells": [
  {
   "cell_type": "markdown",
   "metadata": {},
   "source": [
    "---\n",
    "\n",
    "_You are currently looking at **version 1.1** of this notebook. To download notebooks and datafiles, as well as get help on Jupyter notebooks in the Coursera platform, visit the [Jupyter Notebook FAQ](https://www.coursera.org/learn/python-text-mining/resources/d9pwm) course resource._\n",
    "\n",
    "---"
   ]
  },
  {
   "cell_type": "markdown",
   "metadata": {},
   "source": [
    "# Assignment 1\n",
    "\n",
    "In this assignment, you'll be working with messy medical data and using regex to extract relevant infromation from the data. \n",
    "\n",
    "Each line of the `dates.txt` file corresponds to a medical note. Each note has a date that needs to be extracted, but each date is encoded in one of many formats.\n",
    "\n",
    "The goal of this assignment is to correctly identify all of the different date variants encoded in this dataset and to properly normalize and sort the dates. \n",
    "\n",
    "Here is a list of some of the variants you might encounter in this dataset:\n",
    "* 04/20/2009; 04/20/09; 4/20/09; 4/3/09\n",
    "* Mar-20-2009; Mar 20, 2009; March 20, 2009;  Mar. 20, 2009; Mar 20 2009;\n",
    "* 20 Mar 2009; 20 March 2009; 20 Mar. 2009; 20 March, 2009\n",
    "* Mar 20th, 2009; Mar 21st, 2009; Mar 22nd, 2009\n",
    "* Feb 2009; Sep 2009; Oct 2010\n",
    "* 6/2008; 12/2009\n",
    "* 2009; 2010\n",
    "\n",
    "Once you have extracted these date patterns from the text, the next step is to sort them in ascending chronological order accoring to the following rules:\n",
    "* Assume all dates in xx/xx/xx format are mm/dd/yy\n",
    "* Assume all dates where year is encoded in only two digits are years from the 1900's (e.g. 1/5/89 is January 5th, 1989)\n",
    "* If the day is missing (e.g. 9/2009), assume it is the first day of the month (e.g. September 1, 2009).\n",
    "* If the month is missing (e.g. 2010), assume it is the first of January of that year (e.g. January 1, 2010).\n",
    "* Watch out for potential typos as this is a raw, real-life derived dataset.\n",
    "\n",
    "With these rules in mind, find the correct date in each note and return a pandas Series in chronological order of the original Series' indices.\n",
    "\n",
    "For example if the original series was this:\n",
    "\n",
    "    0    1999\n",
    "    1    2010\n",
    "    2    1978\n",
    "    3    2015\n",
    "    4    1985\n",
    "\n",
    "Your function should return this:\n",
    "\n",
    "    0    2\n",
    "    1    4\n",
    "    2    0\n",
    "    3    1\n",
    "    4    3\n",
    "\n",
    "Your score will be calculated using [Kendall's tau](https://en.wikipedia.org/wiki/Kendall_rank_correlation_coefficient), a correlation measure for ordinal data.\n",
    "\n",
    "*This function should return a Series of length 500 and dtype int.*"
   ]
  },
  {
   "cell_type": "code",
   "execution_count": 975,
   "metadata": {},
   "outputs": [
    {
     "data": {
      "text/plain": [
       "0          03/25/93 Total time of visit (in minutes):\\n\n",
       "1                        6/18/85 Primary Care Doctor:\\n\n",
       "2     sshe plans to move as of 7/8/71 In-Home Servic...\n",
       "3                 7 on 9/27/75 Audit C Score Current:\\n\n",
       "4     2/6/96 sleep studyPain Treatment Pain Level (N...\n",
       "5                     .Per 7/06/79 Movement D/O note:\\n\n",
       "6     4, 5/18/78 Patient's thoughts about current su...\n",
       "7     10/24/89 CPT Code: 90801 - Psychiatric Diagnos...\n",
       "8                          3/7/86 SOS-10 Total Score:\\n\n",
       "9              (4/10/71)Score-1Audit C Score Current:\\n\n",
       "10    (5/11/85) Crt-1.96, BUN-26; AST/ALT-16/22; WBC...\n",
       "11                        4/09/75 SOS-10 Total Score:\\n\n",
       "12    8/01/98 Communication with referring physician...\n",
       "13    1/26/72 Communication with referring physician...\n",
       "14    5/24/1990 CPT Code: 90792: With medical servic...\n",
       "15    1/25/2011 CPT Code: 90792: With medical servic...\n",
       "16          4/12/82 Total time of visit (in minutes):\\n\n",
       "17         1; 10/13/1976 Audit C Score, Highest/Date:\\n\n",
       "18                  4, 4/24/98 Relevant Drug History:\\n\n",
       "19    ) 59 yo unemployed w referred by Urgent Care f...\n",
       "20          7/21/98 Total time of visit (in minutes):\\n\n",
       "21                       10/21/79 SOS-10 Total Score:\\n\n",
       "22     3/03/90 CPT Code: 90792: With medical services\\n\n",
       "23     2/11/76 CPT Code: 90792: With medical services\\n\n",
       "24    07/25/1984 CPT Code: 90791: No medical services\\n\n",
       "25    4-13-82 Other Child Mental Health Outcomes Sca...\n",
       "26     9/22/89 CPT Code: 90792: With medical services\\n\n",
       "27       9/02/76 CPT Code: 90791: No medical services\\n\n",
       "28                               9/12/71 [report_end]\\n\n",
       "29    10/24/86 Communication with referring physicia...\n",
       "30       03/31/1985 Total time of visit (in minutes):\\n\n",
       "31       7/20/72 CPT Code: 90791: No medical services\\n\n",
       "32         4/12/87= 1, negativeAudit C Score Current:\\n\n",
       "33         06/20/91 Total time of visit (in minutes):\\n\n",
       "34                     5/12/2012 Primary Care Doctor:\\n\n",
       "35                        3/15/83 SOS-10 Total Score:\\n\n",
       "36    2/14/73 CPT Code: 90801 - Psychiatric Diagnosi...\n",
       "37     5/24/88 CPT Code: 90792: With medical services\\n\n",
       "38        7/27/1986 Total time of visit (in minutes):\\n\n",
       "39    1-14-81 Communication with referring physician...\n",
       "40    7-29-75 CPT Code: 90801 - Psychiatric Diagnosi...\n",
       "41    (6/24/87) TSH-2.18; Activities of Daily Living...\n",
       "42                       8/14/94 Primary Care Doctor:\\n\n",
       "43                     4/13/2002 Primary Care Doctor:\\n\n",
       "44     8/16/82 CPT Code: 90792: With medical services\\n\n",
       "45        2/15/1998 Total time of visit (in minutes):\\n\n",
       "46     7/15/91 CPT Code: 90792: With medical services\\n\n",
       "47                       06/12/94 SOS-10 Total Score:\\n\n",
       "48    9/17/84 Communication with referring physician...\n",
       "49    2/28/75 Other Adult Mental Health Outcomes Sca...\n",
       "dtype: object"
      ]
     },
     "execution_count": 975,
     "metadata": {},
     "output_type": "execute_result"
    }
   ],
   "source": [
    "import pandas as pd\n",
    "\n",
    "doc = []\n",
    "with open('dates.txt') as file:\n",
    "    for line in file:\n",
    "        doc.append(line)\n",
    "\n",
    "df = pd.Series(doc)\n",
    "df.head(50)"
   ]
  },
  {
   "cell_type": "code",
   "execution_count": 1018,
   "metadata": {},
   "outputs": [],
   "source": [
    "grupo1 = '(\\d{1,2}[/-]\\d{1,2}[/-]\\d{2,4})'\n",
    "grupo2 = '((?:Jan|Feb|Mar|Apr|May|Jun|Jul|Aug|Sep|Oct|Nov|Dec)[\\S]*[+\\s]\\d{1,2}[,]{0,1}[+\\s]\\d{4})'\n",
    "grupo3 = '(\\d{1,2}[+\\s](?:Jan|Feb|Mar|Apr|May|Jun|Jul|Aug|Sep|Oct|Nov|Dec)[\\S]*[+\\s]\\d{4})'\n",
    "grupo4 = '((?:Jan|Feb|Mar|Apr|May|Jun|Jul|Aug|Sep|Oct|Nov|Dec)[\\S]*[+\\s]\\d{4})'\n",
    "grupo5 = '(\\d{1,2}[/-][1|2]\\d{3})'\n",
    "grupo6 = '([1|2]\\d{3})'\n"
   ]
  },
  {
   "cell_type": "code",
   "execution_count": 1019,
   "metadata": {},
   "outputs": [],
   "source": [
    "full_grupo = '(%s|%s|%s|%s|%s|%s)' %(grupo1,grupo2,grupo3, grupo4, grupo5, grupo6)"
   ]
  },
  {
   "cell_type": "code",
   "execution_count": 1020,
   "metadata": {},
   "outputs": [
    {
     "data": {
      "text/plain": [
       "'((\\\\d{1,2}[/-]\\\\d{1,2}[/-]\\\\d{2,4})|((?:Jan|Feb|Mar|Apr|May|Jun|Jul|Aug|Sep|Oct|Nov|Dec)[\\\\S]*[+\\\\s]\\\\d{1,2}[,]{0,1}[+\\\\s]\\\\d{4})|(\\\\d{1,2}[+\\\\s](?:Jan|Feb|Mar|Apr|May|Jun|Jul|Aug|Sep|Oct|Nov|Dec)[\\\\S]*[+\\\\s]\\\\d{4})|((?:Jan|Feb|Mar|Apr|May|Jun|Jul|Aug|Sep|Oct|Nov|Dec)[\\\\S]*[+\\\\s]\\\\d{4})|(\\\\d{1,2}[/-][1|2]\\\\d{3})|([1|2]\\\\d{3}))'"
      ]
     },
     "execution_count": 1020,
     "metadata": {},
     "output_type": "execute_result"
    }
   ],
   "source": [
    "full_grupo"
   ]
  },
  {
   "cell_type": "code",
   "execution_count": 1021,
   "metadata": {},
   "outputs": [],
   "source": [
    "parsed_date = df.str.extractall(full_grupo)"
   ]
  },
  {
   "cell_type": "code",
   "execution_count": 1022,
   "metadata": {},
   "outputs": [
    {
     "data": {
      "text/html": [
       "<div>\n",
       "<style scoped>\n",
       "    .dataframe tbody tr th:only-of-type {\n",
       "        vertical-align: middle;\n",
       "    }\n",
       "\n",
       "    .dataframe tbody tr th {\n",
       "        vertical-align: top;\n",
       "    }\n",
       "\n",
       "    .dataframe thead th {\n",
       "        text-align: right;\n",
       "    }\n",
       "</style>\n",
       "<table border=\"1\" class=\"dataframe\">\n",
       "  <thead>\n",
       "    <tr style=\"text-align: right;\">\n",
       "      <th></th>\n",
       "      <th></th>\n",
       "      <th>0</th>\n",
       "      <th>1</th>\n",
       "      <th>2</th>\n",
       "      <th>3</th>\n",
       "      <th>4</th>\n",
       "      <th>5</th>\n",
       "      <th>6</th>\n",
       "    </tr>\n",
       "    <tr>\n",
       "      <th></th>\n",
       "      <th>match</th>\n",
       "      <th></th>\n",
       "      <th></th>\n",
       "      <th></th>\n",
       "      <th></th>\n",
       "      <th></th>\n",
       "      <th></th>\n",
       "      <th></th>\n",
       "    </tr>\n",
       "  </thead>\n",
       "  <tbody>\n",
       "    <tr>\n",
       "      <th>0</th>\n",
       "      <th>0</th>\n",
       "      <td>03/25/93</td>\n",
       "      <td>03/25/93</td>\n",
       "      <td>NaN</td>\n",
       "      <td>NaN</td>\n",
       "      <td>NaN</td>\n",
       "      <td>NaN</td>\n",
       "      <td>NaN</td>\n",
       "    </tr>\n",
       "    <tr>\n",
       "      <th>1</th>\n",
       "      <th>0</th>\n",
       "      <td>6/18/85</td>\n",
       "      <td>6/18/85</td>\n",
       "      <td>NaN</td>\n",
       "      <td>NaN</td>\n",
       "      <td>NaN</td>\n",
       "      <td>NaN</td>\n",
       "      <td>NaN</td>\n",
       "    </tr>\n",
       "    <tr>\n",
       "      <th>2</th>\n",
       "      <th>0</th>\n",
       "      <td>7/8/71</td>\n",
       "      <td>7/8/71</td>\n",
       "      <td>NaN</td>\n",
       "      <td>NaN</td>\n",
       "      <td>NaN</td>\n",
       "      <td>NaN</td>\n",
       "      <td>NaN</td>\n",
       "    </tr>\n",
       "    <tr>\n",
       "      <th>3</th>\n",
       "      <th>0</th>\n",
       "      <td>9/27/75</td>\n",
       "      <td>9/27/75</td>\n",
       "      <td>NaN</td>\n",
       "      <td>NaN</td>\n",
       "      <td>NaN</td>\n",
       "      <td>NaN</td>\n",
       "      <td>NaN</td>\n",
       "    </tr>\n",
       "    <tr>\n",
       "      <th>4</th>\n",
       "      <th>0</th>\n",
       "      <td>2/6/96</td>\n",
       "      <td>2/6/96</td>\n",
       "      <td>NaN</td>\n",
       "      <td>NaN</td>\n",
       "      <td>NaN</td>\n",
       "      <td>NaN</td>\n",
       "      <td>NaN</td>\n",
       "    </tr>\n",
       "    <tr>\n",
       "      <th>...</th>\n",
       "      <th>...</th>\n",
       "      <td>...</td>\n",
       "      <td>...</td>\n",
       "      <td>...</td>\n",
       "      <td>...</td>\n",
       "      <td>...</td>\n",
       "      <td>...</td>\n",
       "      <td>...</td>\n",
       "    </tr>\n",
       "    <tr>\n",
       "      <th>495</th>\n",
       "      <th>0</th>\n",
       "      <td>1979</td>\n",
       "      <td>NaN</td>\n",
       "      <td>NaN</td>\n",
       "      <td>NaN</td>\n",
       "      <td>NaN</td>\n",
       "      <td>NaN</td>\n",
       "      <td>1979</td>\n",
       "    </tr>\n",
       "    <tr>\n",
       "      <th>496</th>\n",
       "      <th>0</th>\n",
       "      <td>2006</td>\n",
       "      <td>NaN</td>\n",
       "      <td>NaN</td>\n",
       "      <td>NaN</td>\n",
       "      <td>NaN</td>\n",
       "      <td>NaN</td>\n",
       "      <td>2006</td>\n",
       "    </tr>\n",
       "    <tr>\n",
       "      <th>497</th>\n",
       "      <th>0</th>\n",
       "      <td>2008</td>\n",
       "      <td>NaN</td>\n",
       "      <td>NaN</td>\n",
       "      <td>NaN</td>\n",
       "      <td>NaN</td>\n",
       "      <td>NaN</td>\n",
       "      <td>2008</td>\n",
       "    </tr>\n",
       "    <tr>\n",
       "      <th>498</th>\n",
       "      <th>0</th>\n",
       "      <td>2005</td>\n",
       "      <td>NaN</td>\n",
       "      <td>NaN</td>\n",
       "      <td>NaN</td>\n",
       "      <td>NaN</td>\n",
       "      <td>NaN</td>\n",
       "      <td>2005</td>\n",
       "    </tr>\n",
       "    <tr>\n",
       "      <th>499</th>\n",
       "      <th>0</th>\n",
       "      <td>1980</td>\n",
       "      <td>NaN</td>\n",
       "      <td>NaN</td>\n",
       "      <td>NaN</td>\n",
       "      <td>NaN</td>\n",
       "      <td>NaN</td>\n",
       "      <td>1980</td>\n",
       "    </tr>\n",
       "  </tbody>\n",
       "</table>\n",
       "<p>501 rows × 7 columns</p>\n",
       "</div>"
      ],
      "text/plain": [
       "                  0         1    2    3    4    5     6\n",
       "    match                                              \n",
       "0   0      03/25/93  03/25/93  NaN  NaN  NaN  NaN   NaN\n",
       "1   0       6/18/85   6/18/85  NaN  NaN  NaN  NaN   NaN\n",
       "2   0        7/8/71    7/8/71  NaN  NaN  NaN  NaN   NaN\n",
       "3   0       9/27/75   9/27/75  NaN  NaN  NaN  NaN   NaN\n",
       "4   0        2/6/96    2/6/96  NaN  NaN  NaN  NaN   NaN\n",
       "...             ...       ...  ...  ...  ...  ...   ...\n",
       "495 0          1979       NaN  NaN  NaN  NaN  NaN  1979\n",
       "496 0          2006       NaN  NaN  NaN  NaN  NaN  2006\n",
       "497 0          2008       NaN  NaN  NaN  NaN  NaN  2008\n",
       "498 0          2005       NaN  NaN  NaN  NaN  NaN  2005\n",
       "499 0          1980       NaN  NaN  NaN  NaN  NaN  1980\n",
       "\n",
       "[501 rows x 7 columns]"
      ]
     },
     "execution_count": 1022,
     "metadata": {},
     "output_type": "execute_result"
    }
   ],
   "source": [
    "parsed_date"
   ]
  },
  {
   "cell_type": "code",
   "execution_count": 1023,
   "metadata": {},
   "outputs": [],
   "source": [
    "#parsed_date=parsed_date.drop(parsed_date.index[[501]])"
   ]
  },
  {
   "cell_type": "code",
   "execution_count": 1024,
   "metadata": {},
   "outputs": [
    {
     "data": {
      "text/plain": [
       "array(['03/25/93', '6/18/85', '7/8/71', '9/27/75', '2/6/96', '7/06/79',\n",
       "       '5/18/78', '10/24/89', '3/7/86', '4/10/71', '5/11/85', '4/09/75',\n",
       "       '8/01/98', '1/26/72', '5/24/1990', '1/25/2011', '4/12/82',\n",
       "       '10/13/1976', '4/24/98', '5/21/77', '7/21/98', '10/21/79',\n",
       "       '3/03/90', '2/11/76', '07/25/1984', '4-13-82', '9/22/89',\n",
       "       '9/02/76', '9/12/71', '10/24/86', '03/31/1985', '7/20/72',\n",
       "       '4/12/87', '06/20/91', '5/12/2012', '3/15/83', '2/14/73',\n",
       "       '5/24/88', '7/27/1986', '1-14-81', '7-29-75', '6/24/87', '8/14/94',\n",
       "       '4/13/2002', '8/16/82', '2/15/1998', '7/15/91', '06/12/94',\n",
       "       '9/17/84', '2/28/75', '11/22/75', '5/24/91', '6/13/92', '7/11/71',\n",
       "       '12/26/86', '10/11/1987', '3/14/95', '12/01/73', '12/5/2010',\n",
       "       '08/20/1982', '7/24/95', '8/06/83', '02/22/92', '6/28/87',\n",
       "       '07/29/1994', '08/11/78', '10/29/91', '7/6/91', '1/21/87',\n",
       "       '11/3/1985', '7/04/82', '4-13-89', '7/11/77', '9/36/308',\n",
       "       '4/12/74', '09/19/81', '9/6/79', '12/5/87', '01/05/1999',\n",
       "       '4/22/80', '10/04/98', '6/29/81', '8/04/78', '7/07/1974',\n",
       "       '09/14/2000', '5/18/71', '8/09/1981', '6/05/93', '8/9/97',\n",
       "       '12/8/82', '8/26/89', '10/13/95', '4/19/91', '04/08/2004',\n",
       "       '9/20/76', '12/08/1990', '4/11/1974', '7/18/86', '3/31/91',\n",
       "       '5/13/72', '11/14/83', '8/16/92', '10/05/97', '07/18/2002',\n",
       "       '9/22/82', '2/24/74', '2/03/78', '2/11/2006', '8/22/83', '5/04/74',\n",
       "       '7/20/2011', '6/17/95', '6/10/72', '10/16/82', '12/15/92',\n",
       "       '12/8/97', '4/05/89', '12/04/87', '6/20/77', '4/27/2006',\n",
       "       '07/17/92', '12/22/98', '10/02/96', '11/05/90', '5/04/77',\n",
       "       '2/27/96', '24 Jan 2001', '10 Sep 2004', '26 May 1982',\n",
       "       '28 June 2002', '06 May 1972', '25 Oct 1987', '14 Oct 1996',\n",
       "       '30 Nov 2007', '28 June 1994', '14 Jan 1981', '10 Oct 1985',\n",
       "       '11 February 1985', '10 Feb 1983', '05 Feb 1992', '21 Oct 2012',\n",
       "       '14 Feb 1995', '30 May 2016', '22 Jan 1996', '14 Oct 1992',\n",
       "       '06 Oct 2003', '18 Oct 1999', '11 Nov 2004', '30 May 2001',\n",
       "       '02 Feb 1978', '09 Sep 1989', '12 March 1980', '22 June 1990',\n",
       "       '28 Sep 2015', '13 Jan 1972', '06 Mar 1974', '10 Oct 1974',\n",
       "       '26 May 1974', '10 Feb 1990', '23 Aug 2000', '26 May 2001',\n",
       "       '21 Oct 2007', '19 Oct 2016', '05 Mar 1974', '29 Jan 1994',\n",
       "       '21 Oct 1978', '18 August 1975', '11 Nov 1996', '01 Oct 1979',\n",
       "       '13 Oct 1986', '21 Oct 1995', '24 Jan 2011', '04 Oct 1972',\n",
       "       '23 Aug 1993', '18 Oct 2006', '04 Dec 1988', '21 Oct 1983',\n",
       "       '26 May 2010', '18 Jan 1990', '15 Jun 1985', '10 Dec 1982',\n",
       "       '09 Dec 1988', '18 August 1995', '13 June 1974', '26 May 2008',\n",
       "       '11 Nov 2002', '17 Aug 1985', '13 Oct 2016', '14 Jan 2008',\n",
       "       '12 March 2004', '21 Oct 1977', '10 Aug 2000', '30 Nov 1972',\n",
       "       '06 May 1993', '18 Jan 1995', 'April 11, 1990', 'May 30, 2001',\n",
       "       'Feb 18, 1994', 'February 18, 1981', 'October. 11, 2013',\n",
       "       'Jan 24 1986', 'July 26, 1978', 'December 23, 1999',\n",
       "       'May 15, 1989', 'September 06, 1995', 'Mar. 10, 1976',\n",
       "       'Jan 27, 1983', 'October 23 1990', 'August 12 2004',\n",
       "       'September 01, 2012', 'July 25, 1983', 'August 11, 1989',\n",
       "       'April 17, 1992', 'July 24, 1999', 'July 11, 1997',\n",
       "       'Sep. 10, 1974', 'August 14, 1981', 'Nov 11, 1988',\n",
       "       'June 13, 2011', 'May 14, 1989', 'Dec 14 1975', 'June 25, 2012',\n",
       "       'Oct 18, 1980', 'May 15, 1998', 'October 14 1974', 'July 25, 1998',\n",
       "       'June 15, 1972', 'January 07, 1991', 'September. 15, 2011',\n",
       "       'September 1985', 'June 2011', 'May 1986', 'May 2016', 'July 1977',\n",
       "       'July, 1990', 'Jul 2003', 'Oct 2015', 'May 1995', 'February 1976',\n",
       "       'January 1995', 'Feb 1978', 'May, 2011', 'May 2004', 'Nov 2010',\n",
       "       'Sep 2012', 'January, 2013', 'November 1990', 'July 1981',\n",
       "       'May 1983', 'July 1995', 'April 1993', 'May 2005', 'December 1998',\n",
       "       'Jan 2007', 'Feb 2016', 'August 1979', 'Oct 2014', 'Aug 1988',\n",
       "       'Sep 2015', 'Apr 1976', 'Nov 1979', 'February 2000', 'Oct 1986',\n",
       "       'Jun 2002', 'September 1981', 'June 2007', 'April 1989',\n",
       "       'September 1999', 'Oct 1980', 'Dec 2009', 'July 1992', 'May, 2006',\n",
       "       'August 2008', 'Feb 1993', 'February, 2010', 'April 1985',\n",
       "       'September 1984', 'April 1986', 'Apr 2007', 'September 1974',\n",
       "       'Sep 2013', 'July 1985', 'Aug 2004', 'May 2012', 'Feb 1977',\n",
       "       'Jan 1987', 'Sep 1983', 'January 2013', 'Mar 2010', 'August 2009',\n",
       "       'Sep 2007', 'December 2011', 'Jan 2004', 'November 1995',\n",
       "       'September 2008', 'February 1983', 'March 1983', 'Aug 1979',\n",
       "       'Jan 2009', 'Janaury 1993', 'March 1974', 'January 1994',\n",
       "       'Dec 1992', 'November 2004', 'January 1977', 'Mar 2002',\n",
       "       'Feb 2000', 'May, 2004', 'July 2006', 'Feb 1994', 'April 1977',\n",
       "       'Oct 1992', 'February, 1995', 'February 1989', 'Decemeber 1978',\n",
       "       'January 2007', 'Jun 1976', 'May 2011', 'Mar, 1975', 'Jan 1978',\n",
       "       'July 1975', 'November 2012', 'June, 1999', 'October 1991',\n",
       "       'March 1973', 'October 1996', 'Jun 2007', 'October 1995',\n",
       "       'April 1999', 'May, 2001', 'March, 2000', 'April 1988',\n",
       "       'December 1993', 'June 1974', 'November 1997', 'July 1986',\n",
       "       'February 1973', 'March 1978', 'Dec 2007', 'Apr, 1998',\n",
       "       'March, 2005', 'May 1980', 'Nov 2007', 'March 1976', '6/1998',\n",
       "       '6/2005', '10/1973', '9/2005', '03/1980', '12/2005', '5/1987',\n",
       "       '5/2004', '8/1974', '3/1986', '10/1997', '3/1993', '3/1981',\n",
       "       '9/2003', '10/1993', '1/1983', '7/1994', '12/2008', '10/1980',\n",
       "       '8/2003', '12/1975', '11/2010', '7/1997', '7/2014', '9/2001',\n",
       "       '8/1986', '1/1978', '9/1975', '1/2009', '5/1995', '8/1989',\n",
       "       '11/2000', '06/1973', '2/1999', '6/2001', '12/1978', '8/2009',\n",
       "       '7/1973', '1/2014', '09/1975', '12/2012', '5/1999', '7/1989',\n",
       "       '7/2009', '11/1998', '3/1995', '2/2009', '08/1988', '4/2007',\n",
       "       '5/2000', '4/2012', '10/2001', '2/1977', '8/2008', '2/1983',\n",
       "       '5/1979', '1/1992', '11/2008', '12/2014', '4/1974', '10/1981',\n",
       "       '10/1986', '03/1973', '12/1994', '8/1999', '10/2010', '10/1994',\n",
       "       '01/2007', '8/2010', '03/1990', '11/2016', '4/2004', '2/1973',\n",
       "       '7/1987', '8/2000', '8/1975', '5/1977', '3/2000', '9/1984',\n",
       "       '4/1973', '12/1986', '4/1979', '7/2004', '11/1984', '5/2016',\n",
       "       '12/2007', '11/1982', '06/1981', '4/2013', '4/1999', '5/2006',\n",
       "       '10/1978', '12/1989', '2/1974', '11/1986', '4/1983', '10/2014',\n",
       "       '6/1989', '9/1980', '9/1992', '9/2000', '7/1981', '1/2008',\n",
       "       '4/2002', '7/1985', '5/2010', '8/2002', '1/1994', '12/2004',\n",
       "       '3/2003', '7/1991', '7/1982', '1984', '2000', '2001', '1982',\n",
       "       '1998', '2012', '1991', '1988', '2014', '2016', '1976', '1981',\n",
       "       '2011', '1997', '2003', '1983', '1999', '2010', '1975', '1972',\n",
       "       '2015', '1989', '1994', '1993', '1996', '2013', '1974', '1990',\n",
       "       '1995', '2004', '1987', '1973', '1992', '1977', '1985', '2007',\n",
       "       '2009', '1986', '1978', '2002', '1979', '2006', '2008', '2005',\n",
       "       '1980'], dtype=object)"
      ]
     },
     "execution_count": 1024,
     "metadata": {},
     "output_type": "execute_result"
    }
   ],
   "source": [
    "parsed_date[0].unique()"
   ]
  },
  {
   "cell_type": "code",
   "execution_count": 1025,
   "metadata": {
    "scrolled": true
   },
   "outputs": [
    {
     "data": {
      "text/html": [
       "<div>\n",
       "<style scoped>\n",
       "    .dataframe tbody tr th:only-of-type {\n",
       "        vertical-align: middle;\n",
       "    }\n",
       "\n",
       "    .dataframe tbody tr th {\n",
       "        vertical-align: top;\n",
       "    }\n",
       "\n",
       "    .dataframe thead th {\n",
       "        text-align: right;\n",
       "    }\n",
       "</style>\n",
       "<table border=\"1\" class=\"dataframe\">\n",
       "  <thead>\n",
       "    <tr style=\"text-align: right;\">\n",
       "      <th></th>\n",
       "      <th></th>\n",
       "      <th>0</th>\n",
       "      <th>1</th>\n",
       "      <th>2</th>\n",
       "      <th>3</th>\n",
       "      <th>4</th>\n",
       "      <th>5</th>\n",
       "      <th>6</th>\n",
       "    </tr>\n",
       "    <tr>\n",
       "      <th></th>\n",
       "      <th>match</th>\n",
       "      <th></th>\n",
       "      <th></th>\n",
       "      <th></th>\n",
       "      <th></th>\n",
       "      <th></th>\n",
       "      <th></th>\n",
       "      <th></th>\n",
       "    </tr>\n",
       "  </thead>\n",
       "  <tbody>\n",
       "    <tr>\n",
       "      <th>0</th>\n",
       "      <th>0</th>\n",
       "      <td>03/25/93</td>\n",
       "      <td>03/25/93</td>\n",
       "      <td>NaN</td>\n",
       "      <td>NaN</td>\n",
       "      <td>NaN</td>\n",
       "      <td>NaN</td>\n",
       "      <td>NaN</td>\n",
       "    </tr>\n",
       "    <tr>\n",
       "      <th>1</th>\n",
       "      <th>0</th>\n",
       "      <td>6/18/85</td>\n",
       "      <td>6/18/85</td>\n",
       "      <td>NaN</td>\n",
       "      <td>NaN</td>\n",
       "      <td>NaN</td>\n",
       "      <td>NaN</td>\n",
       "      <td>NaN</td>\n",
       "    </tr>\n",
       "    <tr>\n",
       "      <th>2</th>\n",
       "      <th>0</th>\n",
       "      <td>7/8/71</td>\n",
       "      <td>7/8/71</td>\n",
       "      <td>NaN</td>\n",
       "      <td>NaN</td>\n",
       "      <td>NaN</td>\n",
       "      <td>NaN</td>\n",
       "      <td>NaN</td>\n",
       "    </tr>\n",
       "    <tr>\n",
       "      <th>3</th>\n",
       "      <th>0</th>\n",
       "      <td>9/27/75</td>\n",
       "      <td>9/27/75</td>\n",
       "      <td>NaN</td>\n",
       "      <td>NaN</td>\n",
       "      <td>NaN</td>\n",
       "      <td>NaN</td>\n",
       "      <td>NaN</td>\n",
       "    </tr>\n",
       "    <tr>\n",
       "      <th>4</th>\n",
       "      <th>0</th>\n",
       "      <td>2/6/96</td>\n",
       "      <td>2/6/96</td>\n",
       "      <td>NaN</td>\n",
       "      <td>NaN</td>\n",
       "      <td>NaN</td>\n",
       "      <td>NaN</td>\n",
       "      <td>NaN</td>\n",
       "    </tr>\n",
       "    <tr>\n",
       "      <th>...</th>\n",
       "      <th>...</th>\n",
       "      <td>...</td>\n",
       "      <td>...</td>\n",
       "      <td>...</td>\n",
       "      <td>...</td>\n",
       "      <td>...</td>\n",
       "      <td>...</td>\n",
       "      <td>...</td>\n",
       "    </tr>\n",
       "    <tr>\n",
       "      <th>495</th>\n",
       "      <th>0</th>\n",
       "      <td>1979</td>\n",
       "      <td>NaN</td>\n",
       "      <td>NaN</td>\n",
       "      <td>NaN</td>\n",
       "      <td>NaN</td>\n",
       "      <td>NaN</td>\n",
       "      <td>1979</td>\n",
       "    </tr>\n",
       "    <tr>\n",
       "      <th>496</th>\n",
       "      <th>0</th>\n",
       "      <td>2006</td>\n",
       "      <td>NaN</td>\n",
       "      <td>NaN</td>\n",
       "      <td>NaN</td>\n",
       "      <td>NaN</td>\n",
       "      <td>NaN</td>\n",
       "      <td>2006</td>\n",
       "    </tr>\n",
       "    <tr>\n",
       "      <th>497</th>\n",
       "      <th>0</th>\n",
       "      <td>2008</td>\n",
       "      <td>NaN</td>\n",
       "      <td>NaN</td>\n",
       "      <td>NaN</td>\n",
       "      <td>NaN</td>\n",
       "      <td>NaN</td>\n",
       "      <td>2008</td>\n",
       "    </tr>\n",
       "    <tr>\n",
       "      <th>498</th>\n",
       "      <th>0</th>\n",
       "      <td>2005</td>\n",
       "      <td>NaN</td>\n",
       "      <td>NaN</td>\n",
       "      <td>NaN</td>\n",
       "      <td>NaN</td>\n",
       "      <td>NaN</td>\n",
       "      <td>2005</td>\n",
       "    </tr>\n",
       "    <tr>\n",
       "      <th>499</th>\n",
       "      <th>0</th>\n",
       "      <td>1980</td>\n",
       "      <td>NaN</td>\n",
       "      <td>NaN</td>\n",
       "      <td>NaN</td>\n",
       "      <td>NaN</td>\n",
       "      <td>NaN</td>\n",
       "      <td>1980</td>\n",
       "    </tr>\n",
       "  </tbody>\n",
       "</table>\n",
       "<p>501 rows × 7 columns</p>\n",
       "</div>"
      ],
      "text/plain": [
       "                  0         1    2    3    4    5     6\n",
       "    match                                              \n",
       "0   0      03/25/93  03/25/93  NaN  NaN  NaN  NaN   NaN\n",
       "1   0       6/18/85   6/18/85  NaN  NaN  NaN  NaN   NaN\n",
       "2   0        7/8/71    7/8/71  NaN  NaN  NaN  NaN   NaN\n",
       "3   0       9/27/75   9/27/75  NaN  NaN  NaN  NaN   NaN\n",
       "4   0        2/6/96    2/6/96  NaN  NaN  NaN  NaN   NaN\n",
       "...             ...       ...  ...  ...  ...  ...   ...\n",
       "495 0          1979       NaN  NaN  NaN  NaN  NaN  1979\n",
       "496 0          2006       NaN  NaN  NaN  NaN  NaN  2006\n",
       "497 0          2008       NaN  NaN  NaN  NaN  NaN  2008\n",
       "498 0          2005       NaN  NaN  NaN  NaN  NaN  2005\n",
       "499 0          1980       NaN  NaN  NaN  NaN  NaN  1980\n",
       "\n",
       "[501 rows x 7 columns]"
      ]
     },
     "execution_count": 1025,
     "metadata": {},
     "output_type": "execute_result"
    }
   ],
   "source": [
    "parsed_date"
   ]
  },
  {
   "cell_type": "code",
   "execution_count": 1026,
   "metadata": {},
   "outputs": [],
   "source": [
    "parsed_date = parsed_date.iloc[:,0].str.replace('Janaury', 'January').str.replace('Decemeber', 'December')"
   ]
  },
  {
   "cell_type": "code",
   "execution_count": 1027,
   "metadata": {},
   "outputs": [
    {
     "data": {
      "text/plain": [
       "     match\n",
       "0    0        03/25/93\n",
       "1    0         6/18/85\n",
       "2    0          7/8/71\n",
       "3    0         9/27/75\n",
       "4    0          2/6/96\n",
       "                ...   \n",
       "495  0            1979\n",
       "496  0            2006\n",
       "497  0            2008\n",
       "498  0            2005\n",
       "499  0            1980\n",
       "Name: 0, Length: 501, dtype: object"
      ]
     },
     "execution_count": 1027,
     "metadata": {},
     "output_type": "execute_result"
    }
   ],
   "source": [
    "parsed_date"
   ]
  },
  {
   "cell_type": "code",
   "execution_count": 1028,
   "metadata": {},
   "outputs": [],
   "source": [
    "parsed_date = pd.Series(pd.to_datetime(parsed_date,errors='coerce'))\n"
   ]
  },
  {
   "cell_type": "code",
   "execution_count": 1029,
   "metadata": {},
   "outputs": [
    {
     "data": {
      "text/plain": [
       "     match\n",
       "0    0       1993-03-25\n",
       "1    0       1985-06-18\n",
       "2    0       1971-07-08\n",
       "3    0       1975-09-27\n",
       "4    0       1996-02-06\n",
       "                ...    \n",
       "495  0       1979-01-01\n",
       "496  0       2006-01-01\n",
       "497  0       2008-01-01\n",
       "498  0       2005-01-01\n",
       "499  0       1980-01-01\n",
       "Name: 0, Length: 501, dtype: datetime64[ns]"
      ]
     },
     "execution_count": 1029,
     "metadata": {},
     "output_type": "execute_result"
    }
   ],
   "source": [
    "parsed_date"
   ]
  },
  {
   "cell_type": "code",
   "execution_count": 1030,
   "metadata": {},
   "outputs": [],
   "source": [
    "parsed_date = parsed_date.sort_values(ascending=True).index"
   ]
  },
  {
   "cell_type": "code",
   "execution_count": 1033,
   "metadata": {},
   "outputs": [
    {
     "data": {
      "text/plain": [
       "MultiIndex([(  9, 0),\n",
       "            ( 84, 0),\n",
       "            (  2, 0),\n",
       "            ( 53, 0),\n",
       "            ( 28, 0),\n",
       "            (474, 0),\n",
       "            (153, 0),\n",
       "            ( 13, 0),\n",
       "            (129, 0),\n",
       "            ( 98, 0),\n",
       "            ...\n",
       "            (235, 0),\n",
       "            (464, 0),\n",
       "            (253, 0),\n",
       "            (427, 0),\n",
       "            (231, 0),\n",
       "            (141, 0),\n",
       "            (186, 0),\n",
       "            (161, 0),\n",
       "            (413, 0),\n",
       "            ( 72, 1)],\n",
       "           names=[None, 'match'], length=501)"
      ]
     },
     "execution_count": 1033,
     "metadata": {},
     "output_type": "execute_result"
    }
   ],
   "source": [
    "parsed_date"
   ]
  },
  {
   "cell_type": "code",
   "execution_count": 1034,
   "metadata": {},
   "outputs": [],
   "source": [
    "#cquitar MultiIndex en pandas\n",
    "rest = parsed_date.droplevel(1)"
   ]
  },
  {
   "cell_type": "code",
   "execution_count": 1036,
   "metadata": {},
   "outputs": [
    {
     "data": {
      "text/plain": [
       "Int64Index([  9,  84,   2,  53,  28, 474, 153,  13, 129,  98,\n",
       "            ...\n",
       "            235, 464, 253, 427, 231, 141, 186, 161, 413,  72],\n",
       "           dtype='int64', length=501)"
      ]
     },
     "execution_count": 1036,
     "metadata": {},
     "output_type": "execute_result"
    }
   ],
   "source": [
    "rest"
   ]
  },
  {
   "cell_type": "code",
   "execution_count": 1042,
   "metadata": {},
   "outputs": [],
   "source": [
    "rest= pd.Series(rest, index=range(0,501))\n"
   ]
  },
  {
   "cell_type": "code",
   "execution_count": 1043,
   "metadata": {},
   "outputs": [
    {
     "data": {
      "text/plain": [
       "0        9\n",
       "1       84\n",
       "2        2\n",
       "3       53\n",
       "4       28\n",
       "      ... \n",
       "496    141\n",
       "497    186\n",
       "498    161\n",
       "499    413\n",
       "500     72\n",
       "Length: 501, dtype: int64"
      ]
     },
     "execution_count": 1043,
     "metadata": {},
     "output_type": "execute_result"
    }
   ],
   "source": [
    "rest"
   ]
  },
  {
   "cell_type": "code",
   "execution_count": 1003,
   "metadata": {},
   "outputs": [
    {
     "data": {
      "text/plain": [
       "MultiIndex([(  9, 0),\n",
       "            ( 84, 0),\n",
       "            (  2, 0),\n",
       "            ( 53, 0),\n",
       "            ( 28, 0),\n",
       "            (474, 0),\n",
       "            (153, 0),\n",
       "            ( 13, 0),\n",
       "            (129, 0),\n",
       "            ( 98, 0),\n",
       "            ...\n",
       "            (235, 0),\n",
       "            (464, 0),\n",
       "            (253, 0),\n",
       "            (427, 0),\n",
       "            (231, 0),\n",
       "            (141, 0),\n",
       "            (186, 0),\n",
       "            (161, 0),\n",
       "            (413, 0),\n",
       "            ( 72, 1)],\n",
       "           names=[None, 'match'], length=501)"
      ]
     },
     "execution_count": 1003,
     "metadata": {},
     "output_type": "execute_result"
    }
   ],
   "source": [
    "parsed_date"
   ]
  },
  {
   "cell_type": "code",
   "execution_count": 1051,
   "metadata": {},
   "outputs": [],
   "source": [
    "rest = pd.Series(rest)"
   ]
  },
  {
   "cell_type": "code",
   "execution_count": 1052,
   "metadata": {},
   "outputs": [
    {
     "data": {
      "text/plain": [
       "0        9\n",
       "1       84\n",
       "2        2\n",
       "3       53\n",
       "4       28\n",
       "      ... \n",
       "495    231\n",
       "496    141\n",
       "497    186\n",
       "498    161\n",
       "499    413\n",
       "Length: 500, dtype: int64"
      ]
     },
     "execution_count": 1052,
     "metadata": {},
     "output_type": "execute_result"
    }
   ],
   "source": [
    "rest"
   ]
  },
  {
   "cell_type": "code",
   "execution_count": 1053,
   "metadata": {},
   "outputs": [
    {
     "ename": "KeyError",
     "evalue": "500",
     "output_type": "error",
     "traceback": [
      "\u001b[0;31m---------------------------------------------------------------------------\u001b[0m",
      "\u001b[0;31mKeyError\u001b[0m                                  Traceback (most recent call last)",
      "\u001b[0;32m/opt/anaconda3/lib/python3.8/site-packages/pandas/core/indexes/base.py\u001b[0m in \u001b[0;36mget_loc\u001b[0;34m(self, key, method, tolerance)\u001b[0m\n\u001b[1;32m   3079\u001b[0m             \u001b[0;32mtry\u001b[0m\u001b[0;34m:\u001b[0m\u001b[0;34m\u001b[0m\u001b[0;34m\u001b[0m\u001b[0m\n\u001b[0;32m-> 3080\u001b[0;31m                 \u001b[0;32mreturn\u001b[0m \u001b[0mself\u001b[0m\u001b[0;34m.\u001b[0m\u001b[0m_engine\u001b[0m\u001b[0;34m.\u001b[0m\u001b[0mget_loc\u001b[0m\u001b[0;34m(\u001b[0m\u001b[0mcasted_key\u001b[0m\u001b[0;34m)\u001b[0m\u001b[0;34m\u001b[0m\u001b[0;34m\u001b[0m\u001b[0m\n\u001b[0m\u001b[1;32m   3081\u001b[0m             \u001b[0;32mexcept\u001b[0m \u001b[0mKeyError\u001b[0m \u001b[0;32mas\u001b[0m \u001b[0merr\u001b[0m\u001b[0;34m:\u001b[0m\u001b[0;34m\u001b[0m\u001b[0;34m\u001b[0m\u001b[0m\n",
      "\u001b[0;32mpandas/_libs/index.pyx\u001b[0m in \u001b[0;36mpandas._libs.index.IndexEngine.get_loc\u001b[0;34m()\u001b[0m\n",
      "\u001b[0;32mpandas/_libs/index.pyx\u001b[0m in \u001b[0;36mpandas._libs.index.IndexEngine.get_loc\u001b[0;34m()\u001b[0m\n",
      "\u001b[0;32mpandas/_libs/hashtable_class_helper.pxi\u001b[0m in \u001b[0;36mpandas._libs.hashtable.Int64HashTable.get_item\u001b[0;34m()\u001b[0m\n",
      "\u001b[0;32mpandas/_libs/hashtable_class_helper.pxi\u001b[0m in \u001b[0;36mpandas._libs.hashtable.Int64HashTable.get_item\u001b[0;34m()\u001b[0m\n",
      "\u001b[0;31mKeyError\u001b[0m: 500",
      "\nThe above exception was the direct cause of the following exception:\n",
      "\u001b[0;31mKeyError\u001b[0m                                  Traceback (most recent call last)",
      "\u001b[0;32m<ipython-input-1053-a400b2535df6>\u001b[0m in \u001b[0;36m<module>\u001b[0;34m\u001b[0m\n\u001b[0;32m----> 1\u001b[0;31m \u001b[0mrest\u001b[0m\u001b[0;34m.\u001b[0m\u001b[0mpop\u001b[0m\u001b[0;34m(\u001b[0m\u001b[0;36m500\u001b[0m\u001b[0;34m)\u001b[0m\u001b[0;34m\u001b[0m\u001b[0;34m\u001b[0m\u001b[0m\n\u001b[0m",
      "\u001b[0;32m/opt/anaconda3/lib/python3.8/site-packages/pandas/core/series.py\u001b[0m in \u001b[0;36mpop\u001b[0;34m(self, item)\u001b[0m\n\u001b[1;32m   4492\u001b[0m         \u001b[0mdtype\u001b[0m\u001b[0;34m:\u001b[0m \u001b[0mint64\u001b[0m\u001b[0;34m\u001b[0m\u001b[0;34m\u001b[0m\u001b[0m\n\u001b[1;32m   4493\u001b[0m         \"\"\"\n\u001b[0;32m-> 4494\u001b[0;31m         \u001b[0;32mreturn\u001b[0m \u001b[0msuper\u001b[0m\u001b[0;34m(\u001b[0m\u001b[0;34m)\u001b[0m\u001b[0;34m.\u001b[0m\u001b[0mpop\u001b[0m\u001b[0;34m(\u001b[0m\u001b[0mitem\u001b[0m\u001b[0;34m=\u001b[0m\u001b[0mitem\u001b[0m\u001b[0;34m)\u001b[0m\u001b[0;34m\u001b[0m\u001b[0;34m\u001b[0m\u001b[0m\n\u001b[0m\u001b[1;32m   4495\u001b[0m \u001b[0;34m\u001b[0m\u001b[0m\n\u001b[1;32m   4496\u001b[0m     \u001b[0;34m@\u001b[0m\u001b[0mdoc\u001b[0m\u001b[0;34m(\u001b[0m\u001b[0mNDFrame\u001b[0m\u001b[0;34m.\u001b[0m\u001b[0mreplace\u001b[0m\u001b[0;34m,\u001b[0m \u001b[0mklass\u001b[0m\u001b[0;34m=\u001b[0m\u001b[0m_shared_doc_kwargs\u001b[0m\u001b[0;34m[\u001b[0m\u001b[0;34m\"klass\"\u001b[0m\u001b[0;34m]\u001b[0m\u001b[0;34m)\u001b[0m\u001b[0;34m\u001b[0m\u001b[0;34m\u001b[0m\u001b[0m\n",
      "\u001b[0;32m/opt/anaconda3/lib/python3.8/site-packages/pandas/core/generic.py\u001b[0m in \u001b[0;36mpop\u001b[0;34m(self, item)\u001b[0m\n\u001b[1;32m    766\u001b[0m \u001b[0;34m\u001b[0m\u001b[0m\n\u001b[1;32m    767\u001b[0m     \u001b[0;32mdef\u001b[0m \u001b[0mpop\u001b[0m\u001b[0;34m(\u001b[0m\u001b[0mself\u001b[0m\u001b[0;34m,\u001b[0m \u001b[0mitem\u001b[0m\u001b[0;34m:\u001b[0m \u001b[0mLabel\u001b[0m\u001b[0;34m)\u001b[0m \u001b[0;34m->\u001b[0m \u001b[0mUnion\u001b[0m\u001b[0;34m[\u001b[0m\u001b[0mSeries\u001b[0m\u001b[0;34m,\u001b[0m \u001b[0mAny\u001b[0m\u001b[0;34m]\u001b[0m\u001b[0;34m:\u001b[0m\u001b[0;34m\u001b[0m\u001b[0;34m\u001b[0m\u001b[0m\n\u001b[0;32m--> 768\u001b[0;31m         \u001b[0mresult\u001b[0m \u001b[0;34m=\u001b[0m \u001b[0mself\u001b[0m\u001b[0;34m[\u001b[0m\u001b[0mitem\u001b[0m\u001b[0;34m]\u001b[0m\u001b[0;34m\u001b[0m\u001b[0;34m\u001b[0m\u001b[0m\n\u001b[0m\u001b[1;32m    769\u001b[0m         \u001b[0;32mdel\u001b[0m \u001b[0mself\u001b[0m\u001b[0;34m[\u001b[0m\u001b[0mitem\u001b[0m\u001b[0;34m]\u001b[0m\u001b[0;34m\u001b[0m\u001b[0;34m\u001b[0m\u001b[0m\n\u001b[1;32m    770\u001b[0m         \u001b[0;32mif\u001b[0m \u001b[0mself\u001b[0m\u001b[0;34m.\u001b[0m\u001b[0mndim\u001b[0m \u001b[0;34m==\u001b[0m \u001b[0;36m2\u001b[0m\u001b[0;34m:\u001b[0m\u001b[0;34m\u001b[0m\u001b[0;34m\u001b[0m\u001b[0m\n",
      "\u001b[0;32m/opt/anaconda3/lib/python3.8/site-packages/pandas/core/series.py\u001b[0m in \u001b[0;36m__getitem__\u001b[0;34m(self, key)\u001b[0m\n\u001b[1;32m    849\u001b[0m \u001b[0;34m\u001b[0m\u001b[0m\n\u001b[1;32m    850\u001b[0m         \u001b[0;32melif\u001b[0m \u001b[0mkey_is_scalar\u001b[0m\u001b[0;34m:\u001b[0m\u001b[0;34m\u001b[0m\u001b[0;34m\u001b[0m\u001b[0m\n\u001b[0;32m--> 851\u001b[0;31m             \u001b[0;32mreturn\u001b[0m \u001b[0mself\u001b[0m\u001b[0;34m.\u001b[0m\u001b[0m_get_value\u001b[0m\u001b[0;34m(\u001b[0m\u001b[0mkey\u001b[0m\u001b[0;34m)\u001b[0m\u001b[0;34m\u001b[0m\u001b[0;34m\u001b[0m\u001b[0m\n\u001b[0m\u001b[1;32m    852\u001b[0m \u001b[0;34m\u001b[0m\u001b[0m\n\u001b[1;32m    853\u001b[0m         \u001b[0;32mif\u001b[0m \u001b[0mis_hashable\u001b[0m\u001b[0;34m(\u001b[0m\u001b[0mkey\u001b[0m\u001b[0;34m)\u001b[0m\u001b[0;34m:\u001b[0m\u001b[0;34m\u001b[0m\u001b[0;34m\u001b[0m\u001b[0m\n",
      "\u001b[0;32m/opt/anaconda3/lib/python3.8/site-packages/pandas/core/series.py\u001b[0m in \u001b[0;36m_get_value\u001b[0;34m(self, label, takeable)\u001b[0m\n\u001b[1;32m    957\u001b[0m \u001b[0;34m\u001b[0m\u001b[0m\n\u001b[1;32m    958\u001b[0m         \u001b[0;31m# Similar to Index.get_value, but we do not fall back to positional\u001b[0m\u001b[0;34m\u001b[0m\u001b[0;34m\u001b[0m\u001b[0;34m\u001b[0m\u001b[0m\n\u001b[0;32m--> 959\u001b[0;31m         \u001b[0mloc\u001b[0m \u001b[0;34m=\u001b[0m \u001b[0mself\u001b[0m\u001b[0;34m.\u001b[0m\u001b[0mindex\u001b[0m\u001b[0;34m.\u001b[0m\u001b[0mget_loc\u001b[0m\u001b[0;34m(\u001b[0m\u001b[0mlabel\u001b[0m\u001b[0;34m)\u001b[0m\u001b[0;34m\u001b[0m\u001b[0;34m\u001b[0m\u001b[0m\n\u001b[0m\u001b[1;32m    960\u001b[0m         \u001b[0;32mreturn\u001b[0m \u001b[0mself\u001b[0m\u001b[0;34m.\u001b[0m\u001b[0mindex\u001b[0m\u001b[0;34m.\u001b[0m\u001b[0m_get_values_for_loc\u001b[0m\u001b[0;34m(\u001b[0m\u001b[0mself\u001b[0m\u001b[0;34m,\u001b[0m \u001b[0mloc\u001b[0m\u001b[0;34m,\u001b[0m \u001b[0mlabel\u001b[0m\u001b[0;34m)\u001b[0m\u001b[0;34m\u001b[0m\u001b[0;34m\u001b[0m\u001b[0m\n\u001b[1;32m    961\u001b[0m \u001b[0;34m\u001b[0m\u001b[0m\n",
      "\u001b[0;32m/opt/anaconda3/lib/python3.8/site-packages/pandas/core/indexes/base.py\u001b[0m in \u001b[0;36mget_loc\u001b[0;34m(self, key, method, tolerance)\u001b[0m\n\u001b[1;32m   3080\u001b[0m                 \u001b[0;32mreturn\u001b[0m \u001b[0mself\u001b[0m\u001b[0;34m.\u001b[0m\u001b[0m_engine\u001b[0m\u001b[0;34m.\u001b[0m\u001b[0mget_loc\u001b[0m\u001b[0;34m(\u001b[0m\u001b[0mcasted_key\u001b[0m\u001b[0;34m)\u001b[0m\u001b[0;34m\u001b[0m\u001b[0;34m\u001b[0m\u001b[0m\n\u001b[1;32m   3081\u001b[0m             \u001b[0;32mexcept\u001b[0m \u001b[0mKeyError\u001b[0m \u001b[0;32mas\u001b[0m \u001b[0merr\u001b[0m\u001b[0;34m:\u001b[0m\u001b[0;34m\u001b[0m\u001b[0;34m\u001b[0m\u001b[0m\n\u001b[0;32m-> 3082\u001b[0;31m                 \u001b[0;32mraise\u001b[0m \u001b[0mKeyError\u001b[0m\u001b[0;34m(\u001b[0m\u001b[0mkey\u001b[0m\u001b[0;34m)\u001b[0m \u001b[0;32mfrom\u001b[0m \u001b[0merr\u001b[0m\u001b[0;34m\u001b[0m\u001b[0;34m\u001b[0m\u001b[0m\n\u001b[0m\u001b[1;32m   3083\u001b[0m \u001b[0;34m\u001b[0m\u001b[0m\n\u001b[1;32m   3084\u001b[0m         \u001b[0;32mif\u001b[0m \u001b[0mtolerance\u001b[0m \u001b[0;32mis\u001b[0m \u001b[0;32mnot\u001b[0m \u001b[0;32mNone\u001b[0m\u001b[0;34m:\u001b[0m\u001b[0;34m\u001b[0m\u001b[0;34m\u001b[0m\u001b[0m\n",
      "\u001b[0;31mKeyError\u001b[0m: 500"
     ]
    }
   ],
   "source": [
    "rest.pop(500) "
   ]
  },
  {
   "cell_type": "code",
   "execution_count": 1054,
   "metadata": {},
   "outputs": [
    {
     "data": {
      "text/plain": [
       "0        9\n",
       "1       84\n",
       "2        2\n",
       "3       53\n",
       "4       28\n",
       "      ... \n",
       "495    231\n",
       "496    141\n",
       "497    186\n",
       "498    161\n",
       "499    413\n",
       "Length: 500, dtype: int64"
      ]
     },
     "execution_count": 1054,
     "metadata": {},
     "output_type": "execute_result"
    }
   ],
   "source": [
    "rest"
   ]
  },
  {
   "cell_type": "code",
   "execution_count": 1055,
   "metadata": {},
   "outputs": [
    {
     "data": {
      "text/plain": [
       "array([(9, 0), (84, 0), (2, 0), (53, 0), (28, 0), (474, 0), (153, 0),\n",
       "       (13, 0), (129, 0), (98, 0), (111, 0), (225, 0), (31, 0), (171, 0),\n",
       "       (191, 0), (486, 0), (335, 0), (415, 0), (36, 0), (405, 0),\n",
       "       (323, 0), (422, 0), (375, 0), (380, 0), (345, 0), (57, 0),\n",
       "       (481, 0), (436, 0), (104, 0), (299, 0), (162, 0), (154, 0),\n",
       "       (402, 0), (95, 0), (73, 0), (108, 0), (156, 0), (332, 0), (182, 0),\n",
       "       (82, 0), (351, 0), (278, 0), (214, 0), (155, 0), (223, 0),\n",
       "       (473, 0), (49, 0), (317, 0), (11, 0), (319, 0), (40, 0), (418, 0),\n",
       "       (165, 0), (370, 0), (382, 0), (3, 0), (50, 0), (363, 0), (219, 0),\n",
       "       (465, 0), (237, 0), (23, 0), (342, 0), (204, 0), (258, 0),\n",
       "       (315, 0), (27, 0), (93, 0), (17, 0), (488, 0), (303, 0), (283, 0),\n",
       "       (395, 0), (309, 0), (419, 0), (123, 0), (19, 0), (117, 0),\n",
       "       (232, 0), (72, 0), (189, 0), (369, 0), (493, 0), (318, 0),\n",
       "       (239, 0), (148, 0), (105, 0), (336, 0), (6, 0), (200, 0), (81, 0),\n",
       "       (65, 0), (434, 0), (164, 0), (378, 0), (313, 0), (495, 0),\n",
       "       (424, 0), (398, 0), (5, 0), (254, 0), (296, 0), (75, 0), (167, 0),\n",
       "       (21, 0), (259, 0), (499, 0), (347, 0), (150, 0), (78, 0), (340, 0),\n",
       "       (441, 0), (361, 0), (267, 0), (221, 0), (466, 0), (39, 0),\n",
       "       (134, 0), (197, 0), (355, 0), (430, 0), (80, 0), (444, 0),\n",
       "       (246, 0), (85, 0), (215, 0), (263, 0), (74, 0), (403, 0), (458, 0),\n",
       "       (16, 0), (25, 0), (127, 0), (454, 0), (70, 0), (44, 0), (59, 0),\n",
       "       (103, 0), (112, 0), (429, 0), (88, 0), (179, 0), (470, 0),\n",
       "       (358, 0), (205, 0), (397, 0), (294, 0), (137, 0), (295, 0),\n",
       "       (35, 0), (438, 0), (247, 0), (209, 0), (61, 0), (107, 0), (285, 0),\n",
       "       (175, 0), (99, 0), (455, 0), (24, 0), (275, 0), (421, 0), (48, 0),\n",
       "       (426, 0), (489, 0), (136, 0), (30, 0), (274, 0), (10, 0), (178, 0),\n",
       "       (1, 0), (447, 0), (280, 0), (185, 0), (228, 0), (135, 0), (69, 0),\n",
       "       (492, 0), (199, 0), (352, 0), (8, 0), (276, 0), (230, 0), (334, 0),\n",
       "       (96, 0), (38, 0), (368, 0), (404, 0), (261, 0), (168, 0), (29, 0),\n",
       "       (437, 0), (423, 0), (54, 0), (284, 0), (485, 0), (68, 0), (32, 0),\n",
       "       (349, 0), (41, 0), (63, 0), (416, 0), (55, 0), (130, 0), (116, 0),\n",
       "       (76, 0), (462, 0), (330, 0), (37, 0), (390, 0), (256, 0), (216, 0),\n",
       "       (174, 0), (180, 0), (476, 0), (312, 0), (265, 0), (115, 0),\n",
       "       (71, 0), (218, 0), (202, 0), (440, 0), (385, 0), (373, 0),\n",
       "       (210, 0), (89, 0), (149, 0), (26, 0), (7, 0), (435, 0), (482, 0),\n",
       "       (177, 0), (157, 0), (412, 0), (22, 0), (194, 0), (14, 0), (151, 0),\n",
       "       (233, 0), (206, 0), (245, 0), (122, 0), (94, 0), (461, 0),\n",
       "       (226, 0), (97, 0), (91, 0), (51, 0), (33, 0), (453, 0), (67, 0),\n",
       "       (46, 0), (322, 0), (66, 0), (399, 0), (487, 0), (138, 0), (62, 0),\n",
       "       (211, 0), (52, 0), (269, 0), (119, 0), (100, 0), (442, 0),\n",
       "       (310, 0), (143, 0), (301, 0), (113, 0), (478, 0), (298, 0),\n",
       "       (272, 0), (354, 0), (0, 0), (249, 0), (192, 0), (86, 0), (172, 0),\n",
       "       (357, 0), (331, 0), (477, 0), (450, 0), (300, 0), (163, 0),\n",
       "       (308, 0), (196, 0), (47, 0), (133, 0), (359, 0), (64, 0), (42, 0),\n",
       "       (409, 0), (406, 0), (483, 0), (238, 0), (193, 0), (311, 0),\n",
       "       (140, 0), (388, 0), (56, 0), (236, 0), (372, 0), (110, 0),\n",
       "       (248, 0), (60, 0), (181, 0), (203, 0), (326, 0), (90, 0), (169, 0),\n",
       "       (292, 0), (479, 0), (142, 0), (4, 0), (124, 0), (324, 0), (121, 0),\n",
       "       (131, 0), (166, 0), (468, 0), (365, 0), (213, 0), (87, 0),\n",
       "       (353, 0), (101, 0), (333, 0), (114, 0), (459, 0), (45, 0),\n",
       "       (338, 0), (18, 0), (222, 0), (343, 0), (20, 0), (224, 0), (12, 0),\n",
       "       (79, 0), (387, 0), (251, 0), (120, 0), (471, 0), (77, 0), (376, 0),\n",
       "       (432, 0), (327, 0), (384, 0), (321, 0), (212, 0), (407, 0),\n",
       "       (266, 0), (145, 0), (201, 0), (456, 0), (305, 0), (260, 0),\n",
       "       (420, 0), (329, 0), (392, 0), (417, 0), (190, 0), (158, 0),\n",
       "       (443, 0), (83, 0), (374, 0), (457, 0), (125, 0), (328, 0),\n",
       "       (159, 0), (195, 0), (147, 0), (377, 0), (367, 0), (394, 0),\n",
       "       (494, 0), (304, 0), (446, 0), (43, 0), (262, 0), (128, 0),\n",
       "       (102, 0), (449, 0), (184, 0), (469, 0), (452, 0), (234, 0),\n",
       "       (362, 0), (356, 0), (144, 0), (291, 0), (484, 0), (188, 0),\n",
       "       (414, 0), (92, 0), (350, 0), (241, 0), (306, 0), (425, 0),\n",
       "       (281, 0), (207, 0), (126, 0), (302, 0), (146, 0), (451, 0),\n",
       "       (498, 0), (339, 0), (250, 0), (344, 0), (346, 0), (348, 0),\n",
       "       (496, 0), (106, 0), (118, 0), (270, 0), (433, 0), (307, 0),\n",
       "       (173, 0), (314, 0), (410, 0), (490, 0), (252, 0), (391, 0),\n",
       "       (277, 0), (325, 0), (264, 0), (289, 0), (160, 0), (341, 0),\n",
       "       (132, 0), (428, 0), (337, 0), (445, 0), (497, 0), (187, 0),\n",
       "       (183, 0), (396, 0), (271, 0), (293, 0), (400, 0), (360, 0),\n",
       "       (297, 0), (491, 0), (371, 0), (389, 0), (386, 0), (288, 0),\n",
       "       (379, 0), (268, 0), (472, 0), (273, 0), (287, 0), (448, 0),\n",
       "       (176, 0), (411, 0), (408, 0), (364, 0), (242, 0), (58, 0),\n",
       "       (467, 0), (170, 0), (15, 0), (240, 0), (316, 0), (229, 0),\n",
       "       (217, 0), (109, 0), (227, 0), (290, 0), (460, 0), (393, 0),\n",
       "       (282, 0), (34, 0), (220, 0), (208, 0), (243, 0), (139, 0),\n",
       "       (320, 0), (383, 0), (244, 0), (286, 0), (480, 0), (431, 0),\n",
       "       (279, 0), (198, 0), (381, 0), (463, 0), (366, 0), (439, 0),\n",
       "       (255, 0), (401, 0), (475, 0), (257, 0), (152, 0), (235, 0),\n",
       "       (464, 0), (253, 0), (427, 0), (231, 0), (141, 0), (186, 0),\n",
       "       (161, 0), (413, 0), (72, 1)], dtype=object)"
      ]
     },
     "execution_count": 1055,
     "metadata": {},
     "output_type": "execute_result"
    }
   ],
   "source": [
    "parsed_date.values"
   ]
  },
  {
   "cell_type": "code",
   "execution_count": 1056,
   "metadata": {},
   "outputs": [
    {
     "data": {
      "text/plain": [
       "0        9\n",
       "1       84\n",
       "2        2\n",
       "3       53\n",
       "4       28\n",
       "      ... \n",
       "495    231\n",
       "496    141\n",
       "497    186\n",
       "498    161\n",
       "499    413\n",
       "Length: 500, dtype: int64"
      ]
     },
     "execution_count": 1056,
     "metadata": {},
     "output_type": "execute_result"
    }
   ],
   "source": [
    "def date_sorter():\n",
    "    \n",
    "    # Your code here\n",
    "    grupo1 = '(\\d{1,2}[/-]\\d{1,2}[/-]\\d{2,4})'\n",
    "    grupo2 = '((?:Jan|Feb|Mar|Apr|May|Jun|Jul|Aug|Sep|Oct|Nov|Dec)[\\S]*[+\\s]\\d{1,2}[,]{0,1}[+\\s]\\d{4})'\n",
    "    grupo3 = '(\\d{1,2}[+\\s](?:Jan|Feb|Mar|Apr|May|Jun|Jul|Aug|Sep|Oct|Nov|Dec)[\\S]*[+\\s]\\d{4})'\n",
    "    grupo4 = '((?:Jan|Feb|Mar|Apr|May|Jun|Jul|Aug|Sep|Oct|Nov|Dec)[\\S]*[+\\s]\\d{4})'\n",
    "    grupo5 = '(\\d{1,2}[/-][1|2]\\d{3})'\n",
    "    grupo6 = '([1|2]\\d{3})'\n",
    "    \n",
    "    full_grupo = '(%s|%s|%s|%s|%s|%s)' %(grupo1,grupo2,grupo3, grupo4, grupo5, grupo6)\n",
    "    parsed_date = df.str.extractall(full_grupo)\n",
    "    parsed_date = parsed_date.iloc[:,0].str.replace('Janaury', 'January').str.replace('Decemeber', 'December')\n",
    "    parsed_date = pd.Series(pd.to_datetime(parsed_date,errors='coerce'))\n",
    "    parsed_date = parsed_date.sort_values(ascending=True).index\n",
    "    \n",
    "    #cquitar MultiIndex en pandas\n",
    "    rest = parsed_date.droplevel(1)\n",
    "    rest= pd.Series(rest, index=range(0,501))\n",
    "    rest = pd.Series(rest)\n",
    "    rest.pop(500) \n",
    "    \n",
    "    return rest # Your answer here\n",
    "date_sorter()"
   ]
  },
  {
   "cell_type": "code",
   "execution_count": null,
   "metadata": {},
   "outputs": [],
   "source": []
  },
  {
   "cell_type": "code",
   "execution_count": null,
   "metadata": {},
   "outputs": [],
   "source": []
  },
  {
   "cell_type": "code",
   "execution_count": null,
   "metadata": {},
   "outputs": [],
   "source": []
  },
  {
   "cell_type": "code",
   "execution_count": null,
   "metadata": {},
   "outputs": [],
   "source": []
  }
 ],
 "metadata": {
  "coursera": {
   "course_slug": "python-text-mining",
   "graded_item_id": "LvcWI",
   "launcher_item_id": "krne9",
   "part_id": "Mkp1I"
  },
  "kernelspec": {
   "display_name": "Python 3",
   "language": "python",
   "name": "python3"
  },
  "language_info": {
   "codemirror_mode": {
    "name": "ipython",
    "version": 3
   },
   "file_extension": ".py",
   "mimetype": "text/x-python",
   "name": "python",
   "nbconvert_exporter": "python",
   "pygments_lexer": "ipython3",
   "version": "3.8.5"
  }
 },
 "nbformat": 4,
 "nbformat_minor": 2
}
